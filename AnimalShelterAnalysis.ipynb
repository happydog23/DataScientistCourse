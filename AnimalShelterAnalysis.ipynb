{
 "cells": [
  {
   "cell_type": "code",
   "execution_count": 7,
   "metadata": {},
   "outputs": [],
   "source": [
    "import numpy as np\n",
    "import pandas as pd\n",
    "from pandas.api.types import CategoricalDtype\n",
    "import matplotlib.pyplot as plt\n",
    "from time import time\n",
    "from os import getcwd\n",
    "\n",
    "pd.set_option('notebook_repr_html', True, 'max_columns', 0)\n",
    "%matplotlib inline"
   ]
  },
  {
   "cell_type": "markdown",
   "metadata": {},
   "source": [
    "## <u>Understanding the project</u><br>\n",
    "Our aim is to try and predict the outcome of an animal arriving at the animal shelter, \n",
    "based on a few known features (Name, Age, Type etc...).\n",
    "The training set contains a large number of entries. Each entry (row) represnets an animal, \n",
    "its known fetaures, and the outcome of the animal after it visited the shelter.\n",
    "We will try to use existing features in order to derive new features we believe will help predict the outcome, visualize the features\n",
    "and try to arrive at conclusions based on the visualizations.\n",
    "This process will help us understand the data, the problem and how to tackle them.\n",
    "We excluded the Datetime feature and the OutcomeSubType features \n",
    "because this information is only available at the time of outcome and shouldn't be used to predict the outcome."
   ]
  },
  {
   "cell_type": "code",
   "execution_count": 8,
   "metadata": {},
   "outputs": [
    {
     "data": {
      "text/html": [
       "<div>\n",
       "<style scoped>\n",
       "    .dataframe tbody tr th:only-of-type {\n",
       "        vertical-align: middle;\n",
       "    }\n",
       "\n",
       "    .dataframe tbody tr th {\n",
       "        vertical-align: top;\n",
       "    }\n",
       "\n",
       "    .dataframe thead th {\n",
       "        text-align: right;\n",
       "    }\n",
       "</style>\n",
       "<table border=\"1\" class=\"dataframe\">\n",
       "  <thead>\n",
       "    <tr style=\"text-align: right;\">\n",
       "      <th></th>\n",
       "      <th>AnimalID</th>\n",
       "      <th>Name</th>\n",
       "      <th>DateTime</th>\n",
       "      <th>OutcomeType</th>\n",
       "      <th>OutcomeSubtype</th>\n",
       "      <th>AnimalType</th>\n",
       "      <th>SexuponOutcome</th>\n",
       "      <th>AgeuponOutcome</th>\n",
       "      <th>Breed</th>\n",
       "      <th>Color</th>\n",
       "    </tr>\n",
       "  </thead>\n",
       "  <tbody>\n",
       "    <tr>\n",
       "      <th>0</th>\n",
       "      <td>A671945</td>\n",
       "      <td>Hambone</td>\n",
       "      <td>2014-02-12 18:22:00</td>\n",
       "      <td>Return_to_owner</td>\n",
       "      <td>NaN</td>\n",
       "      <td>Dog</td>\n",
       "      <td>Neutered Male</td>\n",
       "      <td>1 year</td>\n",
       "      <td>Shetland Sheepdog Mix</td>\n",
       "      <td>Brown/White</td>\n",
       "    </tr>\n",
       "    <tr>\n",
       "      <th>1</th>\n",
       "      <td>A656520</td>\n",
       "      <td>Emily</td>\n",
       "      <td>2013-10-13 12:44:00</td>\n",
       "      <td>Euthanasia</td>\n",
       "      <td>Suffering</td>\n",
       "      <td>Cat</td>\n",
       "      <td>Spayed Female</td>\n",
       "      <td>1 year</td>\n",
       "      <td>Domestic Shorthair Mix</td>\n",
       "      <td>Cream Tabby</td>\n",
       "    </tr>\n",
       "    <tr>\n",
       "      <th>2</th>\n",
       "      <td>A686464</td>\n",
       "      <td>Pearce</td>\n",
       "      <td>2015-01-31 12:28:00</td>\n",
       "      <td>Adoption</td>\n",
       "      <td>Foster</td>\n",
       "      <td>Dog</td>\n",
       "      <td>Neutered Male</td>\n",
       "      <td>2 years</td>\n",
       "      <td>Pit Bull Mix</td>\n",
       "      <td>Blue/White</td>\n",
       "    </tr>\n",
       "    <tr>\n",
       "      <th>3</th>\n",
       "      <td>A683430</td>\n",
       "      <td>NaN</td>\n",
       "      <td>2014-07-11 19:09:00</td>\n",
       "      <td>Transfer</td>\n",
       "      <td>Partner</td>\n",
       "      <td>Cat</td>\n",
       "      <td>Intact Male</td>\n",
       "      <td>3 weeks</td>\n",
       "      <td>Domestic Shorthair Mix</td>\n",
       "      <td>Blue Cream</td>\n",
       "    </tr>\n",
       "    <tr>\n",
       "      <th>4</th>\n",
       "      <td>A667013</td>\n",
       "      <td>NaN</td>\n",
       "      <td>2013-11-15 12:52:00</td>\n",
       "      <td>Transfer</td>\n",
       "      <td>Partner</td>\n",
       "      <td>Dog</td>\n",
       "      <td>Neutered Male</td>\n",
       "      <td>2 years</td>\n",
       "      <td>Lhasa Apso/Miniature Poodle</td>\n",
       "      <td>Tan</td>\n",
       "    </tr>\n",
       "    <tr>\n",
       "      <th>5</th>\n",
       "      <td>A677334</td>\n",
       "      <td>Elsa</td>\n",
       "      <td>2014-04-25 13:04:00</td>\n",
       "      <td>Transfer</td>\n",
       "      <td>Partner</td>\n",
       "      <td>Dog</td>\n",
       "      <td>Intact Female</td>\n",
       "      <td>1 month</td>\n",
       "      <td>Cairn Terrier/Chihuahua Shorthair</td>\n",
       "      <td>Black/Tan</td>\n",
       "    </tr>\n",
       "    <tr>\n",
       "      <th>6</th>\n",
       "      <td>A699218</td>\n",
       "      <td>Jimmy</td>\n",
       "      <td>2015-03-28 13:11:00</td>\n",
       "      <td>Transfer</td>\n",
       "      <td>Partner</td>\n",
       "      <td>Cat</td>\n",
       "      <td>Intact Male</td>\n",
       "      <td>3 weeks</td>\n",
       "      <td>Domestic Shorthair Mix</td>\n",
       "      <td>Blue Tabby</td>\n",
       "    </tr>\n",
       "    <tr>\n",
       "      <th>7</th>\n",
       "      <td>A701489</td>\n",
       "      <td>NaN</td>\n",
       "      <td>2015-04-30 17:02:00</td>\n",
       "      <td>Transfer</td>\n",
       "      <td>Partner</td>\n",
       "      <td>Cat</td>\n",
       "      <td>Unknown</td>\n",
       "      <td>3 weeks</td>\n",
       "      <td>Domestic Shorthair Mix</td>\n",
       "      <td>Brown Tabby</td>\n",
       "    </tr>\n",
       "    <tr>\n",
       "      <th>8</th>\n",
       "      <td>A671784</td>\n",
       "      <td>Lucy</td>\n",
       "      <td>2014-02-04 17:17:00</td>\n",
       "      <td>Adoption</td>\n",
       "      <td>NaN</td>\n",
       "      <td>Dog</td>\n",
       "      <td>Spayed Female</td>\n",
       "      <td>5 months</td>\n",
       "      <td>American Pit Bull Terrier Mix</td>\n",
       "      <td>Red/White</td>\n",
       "    </tr>\n",
       "    <tr>\n",
       "      <th>9</th>\n",
       "      <td>A677747</td>\n",
       "      <td>NaN</td>\n",
       "      <td>2014-05-03 07:48:00</td>\n",
       "      <td>Adoption</td>\n",
       "      <td>Offsite</td>\n",
       "      <td>Dog</td>\n",
       "      <td>Spayed Female</td>\n",
       "      <td>1 year</td>\n",
       "      <td>Cairn Terrier</td>\n",
       "      <td>White</td>\n",
       "    </tr>\n",
       "  </tbody>\n",
       "</table>\n",
       "</div>"
      ],
      "text/plain": [
       "  AnimalID     Name     ...                                   Breed        Color\n",
       "0  A671945  Hambone     ...                   Shetland Sheepdog Mix  Brown/White\n",
       "1  A656520    Emily     ...                  Domestic Shorthair Mix  Cream Tabby\n",
       "2  A686464   Pearce     ...                            Pit Bull Mix   Blue/White\n",
       "3  A683430      NaN     ...                  Domestic Shorthair Mix   Blue Cream\n",
       "4  A667013      NaN     ...             Lhasa Apso/Miniature Poodle          Tan\n",
       "5  A677334     Elsa     ...       Cairn Terrier/Chihuahua Shorthair    Black/Tan\n",
       "6  A699218    Jimmy     ...                  Domestic Shorthair Mix   Blue Tabby\n",
       "7  A701489      NaN     ...                  Domestic Shorthair Mix  Brown Tabby\n",
       "8  A671784     Lucy     ...           American Pit Bull Terrier Mix    Red/White\n",
       "9  A677747      NaN     ...                           Cairn Terrier        White\n",
       "\n",
       "[10 rows x 10 columns]"
      ]
     },
     "execution_count": 8,
     "metadata": {},
     "output_type": "execute_result"
    }
   ],
   "source": [
    "# load initial data\n",
    "file = 'train.csv'\n",
    "train_data = pd.read_csv(file)\n",
    "train_data.head(10)"
   ]
  },
  {
   "cell_type": "code",
   "execution_count": 9,
   "metadata": {},
   "outputs": [
    {
     "data": {
      "text/html": [
       "<div>\n",
       "<style scoped>\n",
       "    .dataframe tbody tr th:only-of-type {\n",
       "        vertical-align: middle;\n",
       "    }\n",
       "\n",
       "    .dataframe tbody tr th {\n",
       "        vertical-align: top;\n",
       "    }\n",
       "\n",
       "    .dataframe thead th {\n",
       "        text-align: right;\n",
       "    }\n",
       "</style>\n",
       "<table border=\"1\" class=\"dataframe\">\n",
       "  <thead>\n",
       "    <tr style=\"text-align: right;\">\n",
       "      <th></th>\n",
       "      <th>AnimalID</th>\n",
       "      <th>Name</th>\n",
       "      <th>DateTime</th>\n",
       "      <th>OutcomeType</th>\n",
       "      <th>OutcomeSubtype</th>\n",
       "      <th>AnimalType</th>\n",
       "      <th>SexuponOutcome</th>\n",
       "      <th>AgeuponOutcome</th>\n",
       "      <th>Breed</th>\n",
       "      <th>Color</th>\n",
       "    </tr>\n",
       "  </thead>\n",
       "  <tbody>\n",
       "  </tbody>\n",
       "</table>\n",
       "</div>"
      ],
      "text/plain": [
       "Empty DataFrame\n",
       "Columns: [AnimalID, Name, DateTime, OutcomeType, OutcomeSubtype, AnimalType, SexuponOutcome, AgeuponOutcome, Breed, Color]\n",
       "Index: []"
      ]
     },
     "execution_count": 9,
     "metadata": {},
     "output_type": "execute_result"
    }
   ],
   "source": [
    "# no animal IDs without A - we can remove the A and make it a number for better indexing\n",
    "train_data[train_data['AnimalID'].str[:1] != 'A'] "
   ]
  },
  {
   "cell_type": "code",
   "execution_count": 10,
   "metadata": {},
   "outputs": [
    {
     "data": {
      "text/plain": [
       "Adoption           10769\n",
       "Transfer            9422\n",
       "Return_to_owner     4786\n",
       "Euthanasia          1555\n",
       "Died                 197\n",
       "Name: OutcomeType, dtype: int64"
      ]
     },
     "execution_count": 10,
     "metadata": {},
     "output_type": "execute_result"
    }
   ],
   "source": [
    "train_data.OutcomeType.value_counts()"
   ]
  },
  {
   "cell_type": "code",
   "execution_count": 11,
   "metadata": {},
   "outputs": [
    {
     "data": {
      "text/plain": [
       "Neutered Male    9779\n",
       "Spayed Female    8820\n",
       "Intact Male      3525\n",
       "Intact Female    3511\n",
       "Unknown          1093\n",
       "Name: SexuponOutcome, dtype: int64"
      ]
     },
     "execution_count": 11,
     "metadata": {},
     "output_type": "execute_result"
    }
   ],
   "source": [
    "train_data.SexuponOutcome.value_counts()"
   ]
  },
  {
   "cell_type": "code",
   "execution_count": 12,
   "metadata": {},
   "outputs": [],
   "source": [
    "######### Since 'Died' is a very small percentage of the outcome, we decided to remove it from the possible outcomes.\n",
    "# train_data = train_data[train_data.OutcomeType != 'Died']\n",
    "# train_data = train_data[train_data.SexuponOutcome != 'Unknown']\n",
    "\n",
    "# remove preceding 'A' and change AnimalID column to int\n",
    "train_data['AnimalID'] = train_data['AnimalID'].str[1:]\n",
    "train_data['AnimalID'] = train_data['AnimalID'].astype('int32')\n",
    "\n",
    "# set AnimalID as index\n",
    "train_data.set_index('AnimalID', inplace=True)\n",
    "\n",
    "# change DateTime column to datetime\n",
    "train_data['DateTime'] = pd.to_datetime(train_data['DateTime'])"
   ]
  },
  {
   "cell_type": "code",
   "execution_count": 13,
   "metadata": {},
   "outputs": [
    {
     "data": {
      "text/html": [
       "<div>\n",
       "<style scoped>\n",
       "    .dataframe tbody tr th:only-of-type {\n",
       "        vertical-align: middle;\n",
       "    }\n",
       "\n",
       "    .dataframe tbody tr th {\n",
       "        vertical-align: top;\n",
       "    }\n",
       "\n",
       "    .dataframe thead th {\n",
       "        text-align: right;\n",
       "    }\n",
       "</style>\n",
       "<table border=\"1\" class=\"dataframe\">\n",
       "  <thead>\n",
       "    <tr style=\"text-align: right;\">\n",
       "      <th></th>\n",
       "      <th>Name</th>\n",
       "      <th>DateTime</th>\n",
       "      <th>OutcomeType</th>\n",
       "      <th>OutcomeSubtype</th>\n",
       "      <th>AnimalType</th>\n",
       "      <th>SexuponOutcome</th>\n",
       "      <th>AgeuponOutcome</th>\n",
       "      <th>Breed</th>\n",
       "      <th>Color</th>\n",
       "    </tr>\n",
       "  </thead>\n",
       "  <tbody>\n",
       "    <tr>\n",
       "      <th>count</th>\n",
       "      <td>19038</td>\n",
       "      <td>26729</td>\n",
       "      <td>26729</td>\n",
       "      <td>13117</td>\n",
       "      <td>26729</td>\n",
       "      <td>26728</td>\n",
       "      <td>26711</td>\n",
       "      <td>26729</td>\n",
       "      <td>26729</td>\n",
       "    </tr>\n",
       "    <tr>\n",
       "      <th>unique</th>\n",
       "      <td>6374</td>\n",
       "      <td>22918</td>\n",
       "      <td>5</td>\n",
       "      <td>16</td>\n",
       "      <td>2</td>\n",
       "      <td>5</td>\n",
       "      <td>44</td>\n",
       "      <td>1380</td>\n",
       "      <td>366</td>\n",
       "    </tr>\n",
       "    <tr>\n",
       "      <th>top</th>\n",
       "      <td>Max</td>\n",
       "      <td>2015-08-11 00:00:00</td>\n",
       "      <td>Adoption</td>\n",
       "      <td>Partner</td>\n",
       "      <td>Dog</td>\n",
       "      <td>Neutered Male</td>\n",
       "      <td>1 year</td>\n",
       "      <td>Domestic Shorthair Mix</td>\n",
       "      <td>Black/White</td>\n",
       "    </tr>\n",
       "    <tr>\n",
       "      <th>freq</th>\n",
       "      <td>136</td>\n",
       "      <td>19</td>\n",
       "      <td>10769</td>\n",
       "      <td>7816</td>\n",
       "      <td>15595</td>\n",
       "      <td>9779</td>\n",
       "      <td>3969</td>\n",
       "      <td>8810</td>\n",
       "      <td>2824</td>\n",
       "    </tr>\n",
       "    <tr>\n",
       "      <th>first</th>\n",
       "      <td>NaN</td>\n",
       "      <td>2013-10-01 09:31:00</td>\n",
       "      <td>NaN</td>\n",
       "      <td>NaN</td>\n",
       "      <td>NaN</td>\n",
       "      <td>NaN</td>\n",
       "      <td>NaN</td>\n",
       "      <td>NaN</td>\n",
       "      <td>NaN</td>\n",
       "    </tr>\n",
       "    <tr>\n",
       "      <th>last</th>\n",
       "      <td>NaN</td>\n",
       "      <td>2016-02-21 19:17:00</td>\n",
       "      <td>NaN</td>\n",
       "      <td>NaN</td>\n",
       "      <td>NaN</td>\n",
       "      <td>NaN</td>\n",
       "      <td>NaN</td>\n",
       "      <td>NaN</td>\n",
       "      <td>NaN</td>\n",
       "    </tr>\n",
       "  </tbody>\n",
       "</table>\n",
       "</div>"
      ],
      "text/plain": [
       "         Name     ...             Color\n",
       "count   19038     ...             26729\n",
       "unique   6374     ...               366\n",
       "top       Max     ...       Black/White\n",
       "freq      136     ...              2824\n",
       "first     NaN     ...               NaN\n",
       "last      NaN     ...               NaN\n",
       "\n",
       "[6 rows x 9 columns]"
      ]
     },
     "execution_count": 13,
     "metadata": {},
     "output_type": "execute_result"
    }
   ],
   "source": [
    "train_data.describe()"
   ]
  },
  {
   "cell_type": "code",
   "execution_count": 14,
   "metadata": {},
   "outputs": [
    {
     "data": {
      "text/html": [
       "<div>\n",
       "<style scoped>\n",
       "    .dataframe tbody tr th:only-of-type {\n",
       "        vertical-align: middle;\n",
       "    }\n",
       "\n",
       "    .dataframe tbody tr th {\n",
       "        vertical-align: top;\n",
       "    }\n",
       "\n",
       "    .dataframe thead th {\n",
       "        text-align: right;\n",
       "    }\n",
       "</style>\n",
       "<table border=\"1\" class=\"dataframe\">\n",
       "  <thead>\n",
       "    <tr style=\"text-align: right;\">\n",
       "      <th></th>\n",
       "      <th>Name</th>\n",
       "      <th>DateTime</th>\n",
       "      <th>OutcomeType</th>\n",
       "      <th>OutcomeSubtype</th>\n",
       "      <th>AnimalType</th>\n",
       "      <th>SexuponOutcome</th>\n",
       "      <th>AgeuponOutcome</th>\n",
       "      <th>Breed</th>\n",
       "      <th>Color</th>\n",
       "      <th>HasName</th>\n",
       "      <th>Intact</th>\n",
       "      <th>Sex</th>\n",
       "      <th>Breed1</th>\n",
       "      <th>Breed2</th>\n",
       "      <th>Breed3</th>\n",
       "      <th>Color1</th>\n",
       "      <th>Color2</th>\n",
       "      <th>Purebreed</th>\n",
       "      <th>SingleColor</th>\n",
       "    </tr>\n",
       "    <tr>\n",
       "      <th>AnimalID</th>\n",
       "      <th></th>\n",
       "      <th></th>\n",
       "      <th></th>\n",
       "      <th></th>\n",
       "      <th></th>\n",
       "      <th></th>\n",
       "      <th></th>\n",
       "      <th></th>\n",
       "      <th></th>\n",
       "      <th></th>\n",
       "      <th></th>\n",
       "      <th></th>\n",
       "      <th></th>\n",
       "      <th></th>\n",
       "      <th></th>\n",
       "      <th></th>\n",
       "      <th></th>\n",
       "      <th></th>\n",
       "      <th></th>\n",
       "    </tr>\n",
       "  </thead>\n",
       "  <tbody>\n",
       "    <tr>\n",
       "      <th>671945</th>\n",
       "      <td>Hambone</td>\n",
       "      <td>2014-02-12 18:22:00</td>\n",
       "      <td>Return_to_owner</td>\n",
       "      <td>NaN</td>\n",
       "      <td>Dog</td>\n",
       "      <td>Neutered Male</td>\n",
       "      <td>1 year</td>\n",
       "      <td>Shetland Sheepdog Mix</td>\n",
       "      <td>Brown/White</td>\n",
       "      <td>True</td>\n",
       "      <td>False</td>\n",
       "      <td>Male</td>\n",
       "      <td>Shetland Sheepdog Mix</td>\n",
       "      <td>None</td>\n",
       "      <td>None</td>\n",
       "      <td>Brown</td>\n",
       "      <td>White</td>\n",
       "      <td>False</td>\n",
       "      <td>False</td>\n",
       "    </tr>\n",
       "    <tr>\n",
       "      <th>656520</th>\n",
       "      <td>Emily</td>\n",
       "      <td>2013-10-13 12:44:00</td>\n",
       "      <td>Euthanasia</td>\n",
       "      <td>Suffering</td>\n",
       "      <td>Cat</td>\n",
       "      <td>Spayed Female</td>\n",
       "      <td>1 year</td>\n",
       "      <td>Domestic Shorthair Mix</td>\n",
       "      <td>Cream Tabby</td>\n",
       "      <td>True</td>\n",
       "      <td>False</td>\n",
       "      <td>Female</td>\n",
       "      <td>Domestic Shorthair Mix</td>\n",
       "      <td>None</td>\n",
       "      <td>None</td>\n",
       "      <td>Cream Tabby</td>\n",
       "      <td>None</td>\n",
       "      <td>False</td>\n",
       "      <td>True</td>\n",
       "    </tr>\n",
       "    <tr>\n",
       "      <th>686464</th>\n",
       "      <td>Pearce</td>\n",
       "      <td>2015-01-31 12:28:00</td>\n",
       "      <td>Adoption</td>\n",
       "      <td>Foster</td>\n",
       "      <td>Dog</td>\n",
       "      <td>Neutered Male</td>\n",
       "      <td>2 years</td>\n",
       "      <td>Pit Bull Mix</td>\n",
       "      <td>Blue/White</td>\n",
       "      <td>True</td>\n",
       "      <td>False</td>\n",
       "      <td>Male</td>\n",
       "      <td>Pit Bull Mix</td>\n",
       "      <td>None</td>\n",
       "      <td>None</td>\n",
       "      <td>Blue</td>\n",
       "      <td>White</td>\n",
       "      <td>False</td>\n",
       "      <td>False</td>\n",
       "    </tr>\n",
       "    <tr>\n",
       "      <th>683430</th>\n",
       "      <td>NaN</td>\n",
       "      <td>2014-07-11 19:09:00</td>\n",
       "      <td>Transfer</td>\n",
       "      <td>Partner</td>\n",
       "      <td>Cat</td>\n",
       "      <td>Intact Male</td>\n",
       "      <td>3 weeks</td>\n",
       "      <td>Domestic Shorthair Mix</td>\n",
       "      <td>Blue Cream</td>\n",
       "      <td>False</td>\n",
       "      <td>True</td>\n",
       "      <td>Male</td>\n",
       "      <td>Domestic Shorthair Mix</td>\n",
       "      <td>None</td>\n",
       "      <td>None</td>\n",
       "      <td>Blue Cream</td>\n",
       "      <td>None</td>\n",
       "      <td>False</td>\n",
       "      <td>True</td>\n",
       "    </tr>\n",
       "    <tr>\n",
       "      <th>667013</th>\n",
       "      <td>NaN</td>\n",
       "      <td>2013-11-15 12:52:00</td>\n",
       "      <td>Transfer</td>\n",
       "      <td>Partner</td>\n",
       "      <td>Dog</td>\n",
       "      <td>Neutered Male</td>\n",
       "      <td>2 years</td>\n",
       "      <td>Lhasa Apso/Miniature Poodle</td>\n",
       "      <td>Tan</td>\n",
       "      <td>False</td>\n",
       "      <td>False</td>\n",
       "      <td>Male</td>\n",
       "      <td>Lhasa Apso</td>\n",
       "      <td>Miniature Poodle</td>\n",
       "      <td>None</td>\n",
       "      <td>Tan</td>\n",
       "      <td>None</td>\n",
       "      <td>False</td>\n",
       "      <td>True</td>\n",
       "    </tr>\n",
       "    <tr>\n",
       "      <th>677334</th>\n",
       "      <td>Elsa</td>\n",
       "      <td>2014-04-25 13:04:00</td>\n",
       "      <td>Transfer</td>\n",
       "      <td>Partner</td>\n",
       "      <td>Dog</td>\n",
       "      <td>Intact Female</td>\n",
       "      <td>1 month</td>\n",
       "      <td>Cairn Terrier/Chihuahua Shorthair</td>\n",
       "      <td>Black/Tan</td>\n",
       "      <td>True</td>\n",
       "      <td>True</td>\n",
       "      <td>Female</td>\n",
       "      <td>Cairn Terrier</td>\n",
       "      <td>Chihuahua Shorthair</td>\n",
       "      <td>None</td>\n",
       "      <td>Black</td>\n",
       "      <td>Tan</td>\n",
       "      <td>False</td>\n",
       "      <td>False</td>\n",
       "    </tr>\n",
       "    <tr>\n",
       "      <th>699218</th>\n",
       "      <td>Jimmy</td>\n",
       "      <td>2015-03-28 13:11:00</td>\n",
       "      <td>Transfer</td>\n",
       "      <td>Partner</td>\n",
       "      <td>Cat</td>\n",
       "      <td>Intact Male</td>\n",
       "      <td>3 weeks</td>\n",
       "      <td>Domestic Shorthair Mix</td>\n",
       "      <td>Blue Tabby</td>\n",
       "      <td>True</td>\n",
       "      <td>True</td>\n",
       "      <td>Male</td>\n",
       "      <td>Domestic Shorthair Mix</td>\n",
       "      <td>None</td>\n",
       "      <td>None</td>\n",
       "      <td>Blue Tabby</td>\n",
       "      <td>None</td>\n",
       "      <td>False</td>\n",
       "      <td>True</td>\n",
       "    </tr>\n",
       "    <tr>\n",
       "      <th>701489</th>\n",
       "      <td>NaN</td>\n",
       "      <td>2015-04-30 17:02:00</td>\n",
       "      <td>Transfer</td>\n",
       "      <td>Partner</td>\n",
       "      <td>Cat</td>\n",
       "      <td>Unknown</td>\n",
       "      <td>3 weeks</td>\n",
       "      <td>Domestic Shorthair Mix</td>\n",
       "      <td>Brown Tabby</td>\n",
       "      <td>False</td>\n",
       "      <td>Unknown</td>\n",
       "      <td>None</td>\n",
       "      <td>Domestic Shorthair Mix</td>\n",
       "      <td>None</td>\n",
       "      <td>None</td>\n",
       "      <td>Brown Tabby</td>\n",
       "      <td>None</td>\n",
       "      <td>False</td>\n",
       "      <td>True</td>\n",
       "    </tr>\n",
       "    <tr>\n",
       "      <th>671784</th>\n",
       "      <td>Lucy</td>\n",
       "      <td>2014-02-04 17:17:00</td>\n",
       "      <td>Adoption</td>\n",
       "      <td>NaN</td>\n",
       "      <td>Dog</td>\n",
       "      <td>Spayed Female</td>\n",
       "      <td>5 months</td>\n",
       "      <td>American Pit Bull Terrier Mix</td>\n",
       "      <td>Red/White</td>\n",
       "      <td>True</td>\n",
       "      <td>False</td>\n",
       "      <td>Female</td>\n",
       "      <td>American Pit Bull Terrier Mix</td>\n",
       "      <td>None</td>\n",
       "      <td>None</td>\n",
       "      <td>Red</td>\n",
       "      <td>White</td>\n",
       "      <td>False</td>\n",
       "      <td>False</td>\n",
       "    </tr>\n",
       "    <tr>\n",
       "      <th>677747</th>\n",
       "      <td>NaN</td>\n",
       "      <td>2014-05-03 07:48:00</td>\n",
       "      <td>Adoption</td>\n",
       "      <td>Offsite</td>\n",
       "      <td>Dog</td>\n",
       "      <td>Spayed Female</td>\n",
       "      <td>1 year</td>\n",
       "      <td>Cairn Terrier</td>\n",
       "      <td>White</td>\n",
       "      <td>False</td>\n",
       "      <td>False</td>\n",
       "      <td>Female</td>\n",
       "      <td>Cairn Terrier</td>\n",
       "      <td>None</td>\n",
       "      <td>None</td>\n",
       "      <td>White</td>\n",
       "      <td>None</td>\n",
       "      <td>True</td>\n",
       "      <td>True</td>\n",
       "    </tr>\n",
       "  </tbody>\n",
       "</table>\n",
       "</div>"
      ],
      "text/plain": [
       "             Name            DateTime     ...     Purebreed SingleColor\n",
       "AnimalID                                  ...                          \n",
       "671945    Hambone 2014-02-12 18:22:00     ...         False       False\n",
       "656520      Emily 2013-10-13 12:44:00     ...         False        True\n",
       "686464     Pearce 2015-01-31 12:28:00     ...         False       False\n",
       "683430        NaN 2014-07-11 19:09:00     ...         False        True\n",
       "667013        NaN 2013-11-15 12:52:00     ...         False        True\n",
       "677334       Elsa 2014-04-25 13:04:00     ...         False       False\n",
       "699218      Jimmy 2015-03-28 13:11:00     ...         False        True\n",
       "701489        NaN 2015-04-30 17:02:00     ...         False        True\n",
       "671784       Lucy 2014-02-04 17:17:00     ...         False       False\n",
       "677747        NaN 2014-05-03 07:48:00     ...          True        True\n",
       "\n",
       "[10 rows x 19 columns]"
      ]
     },
     "execution_count": 14,
     "metadata": {},
     "output_type": "execute_result"
    }
   ],
   "source": [
    "# looking at the datafrmae and the values in it, we decided to derive the following features out of it, because we believe they will be helpful in finding meaningful trends\n",
    "train_data['HasName'] = (train_data.Name.str.len() > 0)\n",
    "\n",
    "train_data[['Intact','Sex']] = train_data.SexuponOutcome.str.split(expand=True)\n",
    "# train_data['Intact'] = train_data.Intact == 'Intact'\n",
    "train_data['Intact'] = np.where(train_data.Intact.isin(['Spayed','Neutered']), False, train_data.Intact)\n",
    "train_data['Intact'] = np.where(train_data.Intact == 'Intact', True, train_data.Intact)\n",
    "\n",
    "train_data[['Breed1','Breed2','Breed3']] = train_data.Breed.str.split('/',expand=True)\n",
    "\n",
    "train_data[['Color1','Color2']] = train_data.Color.str.split('/',expand=True)\n",
    "\n",
    "train_data['Purebreed'] = ~(train_data.Breed1.str.contains('Mix')) & train_data.Breed2.isna()\n",
    "\n",
    "train_data['SingleColor'] = train_data.Color2.isna()\n",
    "\n",
    "#apply seems to wipe the describe data - not sure how to avoid this\n",
    "train_data.head(10)"
   ]
  },
  {
   "cell_type": "code",
   "execution_count": 15,
   "metadata": {},
   "outputs": [
    {
     "data": {
      "text/html": [
       "<div>\n",
       "<style scoped>\n",
       "    .dataframe tbody tr th:only-of-type {\n",
       "        vertical-align: middle;\n",
       "    }\n",
       "\n",
       "    .dataframe tbody tr th {\n",
       "        vertical-align: top;\n",
       "    }\n",
       "\n",
       "    .dataframe thead th {\n",
       "        text-align: right;\n",
       "    }\n",
       "</style>\n",
       "<table border=\"1\" class=\"dataframe\">\n",
       "  <thead>\n",
       "    <tr style=\"text-align: right;\">\n",
       "      <th></th>\n",
       "      <th>Name</th>\n",
       "      <th>DateTime</th>\n",
       "      <th>OutcomeType</th>\n",
       "      <th>OutcomeSubtype</th>\n",
       "      <th>AnimalType</th>\n",
       "      <th>SexuponOutcome</th>\n",
       "      <th>AgeuponOutcome</th>\n",
       "      <th>Breed</th>\n",
       "      <th>Color</th>\n",
       "      <th>HasName</th>\n",
       "      <th>Intact</th>\n",
       "      <th>Sex</th>\n",
       "      <th>Breed1</th>\n",
       "      <th>Breed2</th>\n",
       "      <th>Breed3</th>\n",
       "      <th>Color1</th>\n",
       "      <th>Color2</th>\n",
       "      <th>Purebreed</th>\n",
       "      <th>SingleColor</th>\n",
       "    </tr>\n",
       "  </thead>\n",
       "  <tbody>\n",
       "    <tr>\n",
       "      <th>count</th>\n",
       "      <td>19038</td>\n",
       "      <td>26729</td>\n",
       "      <td>26729</td>\n",
       "      <td>13117</td>\n",
       "      <td>26729</td>\n",
       "      <td>26728</td>\n",
       "      <td>26711</td>\n",
       "      <td>26729</td>\n",
       "      <td>26729</td>\n",
       "      <td>26729</td>\n",
       "      <td>26728</td>\n",
       "      <td>25635</td>\n",
       "      <td>26729</td>\n",
       "      <td>3058</td>\n",
       "      <td>10</td>\n",
       "      <td>26729</td>\n",
       "      <td>13924</td>\n",
       "      <td>26729</td>\n",
       "      <td>26729</td>\n",
       "    </tr>\n",
       "    <tr>\n",
       "      <th>unique</th>\n",
       "      <td>6374</td>\n",
       "      <td>22918</td>\n",
       "      <td>5</td>\n",
       "      <td>16</td>\n",
       "      <td>2</td>\n",
       "      <td>5</td>\n",
       "      <td>44</td>\n",
       "      <td>1380</td>\n",
       "      <td>366</td>\n",
       "      <td>2</td>\n",
       "      <td>3</td>\n",
       "      <td>2</td>\n",
       "      <td>382</td>\n",
       "      <td>143</td>\n",
       "      <td>4</td>\n",
       "      <td>57</td>\n",
       "      <td>44</td>\n",
       "      <td>2</td>\n",
       "      <td>2</td>\n",
       "    </tr>\n",
       "    <tr>\n",
       "      <th>top</th>\n",
       "      <td>Max</td>\n",
       "      <td>2015-08-11 00:00:00</td>\n",
       "      <td>Adoption</td>\n",
       "      <td>Partner</td>\n",
       "      <td>Dog</td>\n",
       "      <td>Neutered Male</td>\n",
       "      <td>1 year</td>\n",
       "      <td>Domestic Shorthair Mix</td>\n",
       "      <td>Black/White</td>\n",
       "      <td>True</td>\n",
       "      <td>False</td>\n",
       "      <td>Male</td>\n",
       "      <td>Domestic Shorthair Mix</td>\n",
       "      <td>Labrador Retriever</td>\n",
       "      <td>Tan Hound</td>\n",
       "      <td>Black</td>\n",
       "      <td>White</td>\n",
       "      <td>False</td>\n",
       "      <td>False</td>\n",
       "    </tr>\n",
       "    <tr>\n",
       "      <th>freq</th>\n",
       "      <td>136</td>\n",
       "      <td>19</td>\n",
       "      <td>10769</td>\n",
       "      <td>7816</td>\n",
       "      <td>15595</td>\n",
       "      <td>9779</td>\n",
       "      <td>3969</td>\n",
       "      <td>8810</td>\n",
       "      <td>2824</td>\n",
       "      <td>19038</td>\n",
       "      <td>18599</td>\n",
       "      <td>13304</td>\n",
       "      <td>8810</td>\n",
       "      <td>359</td>\n",
       "      <td>6</td>\n",
       "      <td>6422</td>\n",
       "      <td>8854</td>\n",
       "      <td>25338</td>\n",
       "      <td>13924</td>\n",
       "    </tr>\n",
       "    <tr>\n",
       "      <th>first</th>\n",
       "      <td>NaN</td>\n",
       "      <td>2013-10-01 09:31:00</td>\n",
       "      <td>NaN</td>\n",
       "      <td>NaN</td>\n",
       "      <td>NaN</td>\n",
       "      <td>NaN</td>\n",
       "      <td>NaN</td>\n",
       "      <td>NaN</td>\n",
       "      <td>NaN</td>\n",
       "      <td>NaN</td>\n",
       "      <td>NaN</td>\n",
       "      <td>NaN</td>\n",
       "      <td>NaN</td>\n",
       "      <td>NaN</td>\n",
       "      <td>NaN</td>\n",
       "      <td>NaN</td>\n",
       "      <td>NaN</td>\n",
       "      <td>NaN</td>\n",
       "      <td>NaN</td>\n",
       "    </tr>\n",
       "    <tr>\n",
       "      <th>last</th>\n",
       "      <td>NaN</td>\n",
       "      <td>2016-02-21 19:17:00</td>\n",
       "      <td>NaN</td>\n",
       "      <td>NaN</td>\n",
       "      <td>NaN</td>\n",
       "      <td>NaN</td>\n",
       "      <td>NaN</td>\n",
       "      <td>NaN</td>\n",
       "      <td>NaN</td>\n",
       "      <td>NaN</td>\n",
       "      <td>NaN</td>\n",
       "      <td>NaN</td>\n",
       "      <td>NaN</td>\n",
       "      <td>NaN</td>\n",
       "      <td>NaN</td>\n",
       "      <td>NaN</td>\n",
       "      <td>NaN</td>\n",
       "      <td>NaN</td>\n",
       "      <td>NaN</td>\n",
       "    </tr>\n",
       "  </tbody>\n",
       "</table>\n",
       "</div>"
      ],
      "text/plain": [
       "         Name             DateTime     ...     Purebreed SingleColor\n",
       "count   19038                26729     ...         26729       26729\n",
       "unique   6374                22918     ...             2           2\n",
       "top       Max  2015-08-11 00:00:00     ...         False       False\n",
       "freq      136                   19     ...         25338       13924\n",
       "first     NaN  2013-10-01 09:31:00     ...           NaN         NaN\n",
       "last      NaN  2016-02-21 19:17:00     ...           NaN         NaN\n",
       "\n",
       "[6 rows x 19 columns]"
      ]
     },
     "execution_count": 15,
     "metadata": {},
     "output_type": "execute_result"
    }
   ],
   "source": [
    "train_data.describe()"
   ]
  },
  {
   "cell_type": "code",
   "execution_count": 16,
   "metadata": {},
   "outputs": [],
   "source": [
    "# We want to convert the AgeuponOutcome column to a standard value in days\n",
    "def ConvertDays(age):\n",
    "    if age==None: return None\n",
    "    if(' ' not in str(age)): return None\n",
    "    value,unit = str(age).split()\n",
    "    if 'year' in unit: return 365*int(value)\n",
    "    if 'month' in unit: return 30*int(value)\n",
    "    if 'week' in unit: return 7*int(value)\n",
    "    if 'day' in unit:return int(value)\n",
    "    return None\n",
    "\n",
    "train_data['Age'] = train_data.AgeuponOutcome.apply(ConvertDays)\n"
   ]
  },
  {
   "cell_type": "code",
   "execution_count": 17,
   "metadata": {},
   "outputs": [
    {
     "name": "stdout",
     "output_type": "stream",
     "text": [
      "26729 26729\n"
     ]
    }
   ],
   "source": [
    "# Let's check if some animals visited the shelter more than once\n",
    "print(train_data.index.nunique(), len(train_data))\n",
    "# We can't tell if an animal visited more than once, since they seem to get a new AnimalID each visit."
   ]
  },
  {
   "cell_type": "code",
   "execution_count": 18,
   "metadata": {},
   "outputs": [
    {
     "data": {
      "text/html": [
       "<div>\n",
       "<style scoped>\n",
       "    .dataframe tbody tr th:only-of-type {\n",
       "        vertical-align: middle;\n",
       "    }\n",
       "\n",
       "    .dataframe tbody tr th {\n",
       "        vertical-align: top;\n",
       "    }\n",
       "\n",
       "    .dataframe thead th {\n",
       "        text-align: right;\n",
       "    }\n",
       "</style>\n",
       "<table border=\"1\" class=\"dataframe\">\n",
       "  <thead>\n",
       "    <tr style=\"text-align: right;\">\n",
       "      <th>OutcomeType</th>\n",
       "      <th>Adoption</th>\n",
       "      <th>Died</th>\n",
       "      <th>Euthanasia</th>\n",
       "      <th>Return_to_owner</th>\n",
       "      <th>Transfer</th>\n",
       "    </tr>\n",
       "    <tr>\n",
       "      <th>AnimalType</th>\n",
       "      <th></th>\n",
       "      <th></th>\n",
       "      <th></th>\n",
       "      <th></th>\n",
       "      <th></th>\n",
       "    </tr>\n",
       "  </thead>\n",
       "  <tbody>\n",
       "    <tr>\n",
       "      <th>Cat</th>\n",
       "      <td>0.383690</td>\n",
       "      <td>0.013203</td>\n",
       "      <td>0.063769</td>\n",
       "      <td>0.044907</td>\n",
       "      <td>0.494431</td>\n",
       "    </tr>\n",
       "    <tr>\n",
       "      <th>Dog</th>\n",
       "      <td>0.416608</td>\n",
       "      <td>0.003206</td>\n",
       "      <td>0.054184</td>\n",
       "      <td>0.274832</td>\n",
       "      <td>0.251170</td>\n",
       "    </tr>\n",
       "  </tbody>\n",
       "</table>\n",
       "</div>"
      ],
      "text/plain": [
       "OutcomeType  Adoption      Died  Euthanasia  Return_to_owner  Transfer\n",
       "AnimalType                                                            \n",
       "Cat          0.383690  0.013203    0.063769         0.044907  0.494431\n",
       "Dog          0.416608  0.003206    0.054184         0.274832  0.251170"
      ]
     },
     "execution_count": 18,
     "metadata": {},
     "output_type": "execute_result"
    }
   ],
   "source": [
    "#Now that we derived new features from the existing ones, let's try to visualize the data and understand the data better:\n",
    "animal_type_xt = pd.crosstab(index=train_data.AnimalType,\n",
    "                             columns=train_data.OutcomeType,\n",
    "                             normalize='index'\n",
    "                            )\n",
    "animal_type_xt"
   ]
  },
  {
   "cell_type": "markdown",
   "metadata": {},
   "source": [
    "<i>We can see that there's a small chance of the pet being euthanised.\n",
    "however, dogs are much more likely to be returned to the owner than cats, which are more likely to be transferred.</i>"
   ]
  },
  {
   "cell_type": "code",
   "execution_count": 19,
   "metadata": {},
   "outputs": [
    {
     "data": {
      "text/plain": [
       "<matplotlib.axes._subplots.AxesSubplot at 0x9ba5550>"
      ]
     },
     "execution_count": 19,
     "metadata": {},
     "output_type": "execute_result"
    },
    {
     "data": {
      "image/png": "[encoded data removed]",
      "text/plain": [
       "<Figure size 720x576 with 1 Axes>"
      ]
     },
     "metadata": {},
     "output_type": "display_data"
    }
   ],
   "source": [
    "animal_type_xt.plot.bar(stacked=True, figsize=(10,8), rot=50)"
   ]
  },
  {
   "cell_type": "code",
   "execution_count": 20,
   "metadata": {},
   "outputs": [
    {
     "data": {
      "text/html": [
       "<div>\n",
       "<style scoped>\n",
       "    .dataframe tbody tr th:only-of-type {\n",
       "        vertical-align: middle;\n",
       "    }\n",
       "\n",
       "    .dataframe tbody tr th {\n",
       "        vertical-align: top;\n",
       "    }\n",
       "\n",
       "    .dataframe thead th {\n",
       "        text-align: right;\n",
       "    }\n",
       "</style>\n",
       "<table border=\"1\" class=\"dataframe\">\n",
       "  <thead>\n",
       "    <tr style=\"text-align: right;\">\n",
       "      <th></th>\n",
       "      <th>OutcomeType</th>\n",
       "      <th>Adoption</th>\n",
       "      <th>Died</th>\n",
       "      <th>Euthanasia</th>\n",
       "      <th>Return_to_owner</th>\n",
       "      <th>Transfer</th>\n",
       "    </tr>\n",
       "    <tr>\n",
       "      <th>AnimalType</th>\n",
       "      <th>HasName</th>\n",
       "      <th></th>\n",
       "      <th></th>\n",
       "      <th></th>\n",
       "      <th></th>\n",
       "      <th></th>\n",
       "    </tr>\n",
       "  </thead>\n",
       "  <tbody>\n",
       "    <tr>\n",
       "      <th rowspan=\"2\" valign=\"top\">Cat</th>\n",
       "      <th>False</th>\n",
       "      <td>0.128711</td>\n",
       "      <td>0.018330</td>\n",
       "      <td>0.110381</td>\n",
       "      <td>0.008767</td>\n",
       "      <td>0.733812</td>\n",
       "    </tr>\n",
       "    <tr>\n",
       "      <th>True</th>\n",
       "      <td>0.592968</td>\n",
       "      <td>0.008994</td>\n",
       "      <td>0.025511</td>\n",
       "      <td>0.074571</td>\n",
       "      <td>0.297956</td>\n",
       "    </tr>\n",
       "    <tr>\n",
       "      <th rowspan=\"2\" valign=\"top\">Dog</th>\n",
       "      <th>False</th>\n",
       "      <td>0.386228</td>\n",
       "      <td>0.010479</td>\n",
       "      <td>0.097680</td>\n",
       "      <td>0.040793</td>\n",
       "      <td>0.464820</td>\n",
       "    </tr>\n",
       "    <tr>\n",
       "      <th>True</th>\n",
       "      <td>0.422889</td>\n",
       "      <td>0.001702</td>\n",
       "      <td>0.045191</td>\n",
       "      <td>0.323222</td>\n",
       "      <td>0.206995</td>\n",
       "    </tr>\n",
       "  </tbody>\n",
       "</table>\n",
       "</div>"
      ],
      "text/plain": [
       "OutcomeType         Adoption      Died    ...     Return_to_owner  Transfer\n",
       "AnimalType HasName                        ...                              \n",
       "Cat        False    0.128711  0.018330    ...            0.008767  0.733812\n",
       "           True     0.592968  0.008994    ...            0.074571  0.297956\n",
       "Dog        False    0.386228  0.010479    ...            0.040793  0.464820\n",
       "           True     0.422889  0.001702    ...            0.323222  0.206995\n",
       "\n",
       "[4 rows x 5 columns]"
      ]
     },
     "execution_count": 20,
     "metadata": {},
     "output_type": "execute_result"
    }
   ],
   "source": [
    "name_xt = pd.crosstab(index=[train_data.AnimalType,train_data.HasName],\n",
    "                             columns=[train_data.OutcomeType],\n",
    "                             normalize='index')\n",
    "name_xt"
   ]
  },
  {
   "cell_type": "markdown",
   "metadata": {},
   "source": [
    "<i>We can see that both for cats and dogs having a name increases the chance of returning to owner.\n",
    "which makes sense as having a name seems to indicate a (previous) owner.\n",
    "It is also interesting to note that for cats, having a name increased adpotion rate significantly, while for dogs the adoption rate stays the same, but the chance of returning to owner increases.\n",
    "Are the animals more domesticated, healthier , or is it a psychological effect on potential adopters?\n",
    "It would be interesting to test if naming all animals produces better adoption results</i>"
   ]
  },
  {
   "cell_type": "code",
   "execution_count": 21,
   "metadata": {},
   "outputs": [
    {
     "data": {
      "text/plain": [
       "<matplotlib.axes._subplots.AxesSubplot at 0x84689e8>"
      ]
     },
     "execution_count": 21,
     "metadata": {},
     "output_type": "execute_result"
    },
    {
     "data": {
      "image/png": "[encoded data removed]",
      "text/plain": [
       "<Figure size 720x576 with 1 Axes>"
      ]
     },
     "metadata": {},
     "output_type": "display_data"
    }
   ],
   "source": [
    "name_xt.plot.bar(stacked=True, figsize=(10,8), rot=50)\n",
    "\n"
   ]
  },
  {
   "cell_type": "code",
   "execution_count": 22,
   "metadata": {},
   "outputs": [
    {
     "data": {
      "text/html": [
       "<div>\n",
       "<style scoped>\n",
       "    .dataframe tbody tr th:only-of-type {\n",
       "        vertical-align: middle;\n",
       "    }\n",
       "\n",
       "    .dataframe tbody tr th {\n",
       "        vertical-align: top;\n",
       "    }\n",
       "\n",
       "    .dataframe thead th {\n",
       "        text-align: right;\n",
       "    }\n",
       "</style>\n",
       "<table border=\"1\" class=\"dataframe\">\n",
       "  <thead>\n",
       "    <tr style=\"text-align: right;\">\n",
       "      <th></th>\n",
       "      <th>OutcomeType</th>\n",
       "      <th>Adoption</th>\n",
       "      <th>Died</th>\n",
       "      <th>Euthanasia</th>\n",
       "      <th>Return_to_owner</th>\n",
       "      <th>Transfer</th>\n",
       "    </tr>\n",
       "    <tr>\n",
       "      <th>AnimalType</th>\n",
       "      <th>Intact</th>\n",
       "      <th></th>\n",
       "      <th></th>\n",
       "      <th></th>\n",
       "      <th></th>\n",
       "      <th></th>\n",
       "    </tr>\n",
       "  </thead>\n",
       "  <tbody>\n",
       "    <tr>\n",
       "      <th rowspan=\"3\" valign=\"top\">Cat</th>\n",
       "      <th>False</th>\n",
       "      <td>0.663814</td>\n",
       "      <td>0.003291</td>\n",
       "      <td>0.030114</td>\n",
       "      <td>0.076518</td>\n",
       "      <td>0.226263</td>\n",
       "    </tr>\n",
       "    <tr>\n",
       "      <th>True</th>\n",
       "      <td>0.058896</td>\n",
       "      <td>0.025736</td>\n",
       "      <td>0.108142</td>\n",
       "      <td>0.006929</td>\n",
       "      <td>0.800297</td>\n",
       "    </tr>\n",
       "    <tr>\n",
       "      <th>Unknown</th>\n",
       "      <td>0.000000</td>\n",
       "      <td>0.022638</td>\n",
       "      <td>0.088583</td>\n",
       "      <td>0.006890</td>\n",
       "      <td>0.881890</td>\n",
       "    </tr>\n",
       "    <tr>\n",
       "      <th rowspan=\"3\" valign=\"top\">Dog</th>\n",
       "      <th>False</th>\n",
       "      <td>0.509024</td>\n",
       "      <td>0.001358</td>\n",
       "      <td>0.031385</td>\n",
       "      <td>0.281904</td>\n",
       "      <td>0.176330</td>\n",
       "    </tr>\n",
       "    <tr>\n",
       "      <th>True</th>\n",
       "      <td>0.041068</td>\n",
       "      <td>0.010351</td>\n",
       "      <td>0.147245</td>\n",
       "      <td>0.250417</td>\n",
       "      <td>0.550918</td>\n",
       "    </tr>\n",
       "    <tr>\n",
       "      <th>Unknown</th>\n",
       "      <td>0.000000</td>\n",
       "      <td>0.025974</td>\n",
       "      <td>0.142857</td>\n",
       "      <td>0.064935</td>\n",
       "      <td>0.766234</td>\n",
       "    </tr>\n",
       "  </tbody>\n",
       "</table>\n",
       "</div>"
      ],
      "text/plain": [
       "OutcomeType         Adoption      Died    ...     Return_to_owner  Transfer\n",
       "AnimalType Intact                         ...                              \n",
       "Cat        False    0.663814  0.003291    ...            0.076518  0.226263\n",
       "           True     0.058896  0.025736    ...            0.006929  0.800297\n",
       "           Unknown  0.000000  0.022638    ...            0.006890  0.881890\n",
       "Dog        False    0.509024  0.001358    ...            0.281904  0.176330\n",
       "           True     0.041068  0.010351    ...            0.250417  0.550918\n",
       "           Unknown  0.000000  0.025974    ...            0.064935  0.766234\n",
       "\n",
       "[6 rows x 5 columns]"
      ]
     },
     "execution_count": 22,
     "metadata": {},
     "output_type": "execute_result"
    }
   ],
   "source": [
    "intact_xt = pd.crosstab(index=[train_data.AnimalType,train_data.Intact],\n",
    "                             columns=[train_data.OutcomeType],\n",
    "                             normalize='index')\n",
    "intact_xt"
   ]
  },
  {
   "cell_type": "markdown",
   "metadata": {},
   "source": [
    "<i>There is a very strong correlation between neutered/spayed animals and adoption.\n",
    "Possibly this indicates a preference for neutered animals.\n",
    "Alternatively the adoption is the cause and not the effect (if the neutering is part of the adoption process)</i>"
   ]
  },
  {
   "cell_type": "code",
   "execution_count": 23,
   "metadata": {},
   "outputs": [
    {
     "data": {
      "text/plain": [
       "<matplotlib.axes._subplots.AxesSubplot at 0x9a7d5c0>"
      ]
     },
     "execution_count": 23,
     "metadata": {},
     "output_type": "execute_result"
    },
    {
     "data": {
      "image/png": "[encoded data removed]",
      "text/plain": [
       "<Figure size 720x576 with 1 Axes>"
      ]
     },
     "metadata": {},
     "output_type": "display_data"
    }
   ],
   "source": [
    "intact_xt.plot.bar(stacked=True, figsize=(10,8), rot=50)"
   ]
  },
  {
   "cell_type": "code",
   "execution_count": 24,
   "metadata": {},
   "outputs": [
    {
     "data": {
      "text/html": [
       "<div>\n",
       "<style scoped>\n",
       "    .dataframe tbody tr th:only-of-type {\n",
       "        vertical-align: middle;\n",
       "    }\n",
       "\n",
       "    .dataframe tbody tr th {\n",
       "        vertical-align: top;\n",
       "    }\n",
       "\n",
       "    .dataframe thead th {\n",
       "        text-align: right;\n",
       "    }\n",
       "</style>\n",
       "<table border=\"1\" class=\"dataframe\">\n",
       "  <thead>\n",
       "    <tr style=\"text-align: right;\">\n",
       "      <th></th>\n",
       "      <th>OutcomeType</th>\n",
       "      <th>Adoption</th>\n",
       "      <th>Died</th>\n",
       "      <th>Euthanasia</th>\n",
       "      <th>Return_to_owner</th>\n",
       "      <th>Transfer</th>\n",
       "    </tr>\n",
       "    <tr>\n",
       "      <th>AnimalType</th>\n",
       "      <th>Purebreed</th>\n",
       "      <th></th>\n",
       "      <th></th>\n",
       "      <th></th>\n",
       "      <th></th>\n",
       "      <th></th>\n",
       "    </tr>\n",
       "  </thead>\n",
       "  <tbody>\n",
       "    <tr>\n",
       "      <th rowspan=\"2\" valign=\"top\">Cat</th>\n",
       "      <th>False</th>\n",
       "      <td>0.382318</td>\n",
       "      <td>0.013142</td>\n",
       "      <td>0.063965</td>\n",
       "      <td>0.044757</td>\n",
       "      <td>0.495818</td>\n",
       "    </tr>\n",
       "    <tr>\n",
       "      <th>True</th>\n",
       "      <td>0.442688</td>\n",
       "      <td>0.015810</td>\n",
       "      <td>0.055336</td>\n",
       "      <td>0.051383</td>\n",
       "      <td>0.434783</td>\n",
       "    </tr>\n",
       "    <tr>\n",
       "      <th rowspan=\"2\" valign=\"top\">Dog</th>\n",
       "      <th>False</th>\n",
       "      <td>0.426506</td>\n",
       "      <td>0.003182</td>\n",
       "      <td>0.054991</td>\n",
       "      <td>0.266930</td>\n",
       "      <td>0.248392</td>\n",
       "    </tr>\n",
       "    <tr>\n",
       "      <th>True</th>\n",
       "      <td>0.290861</td>\n",
       "      <td>0.003515</td>\n",
       "      <td>0.043937</td>\n",
       "      <td>0.375220</td>\n",
       "      <td>0.286467</td>\n",
       "    </tr>\n",
       "  </tbody>\n",
       "</table>\n",
       "</div>"
      ],
      "text/plain": [
       "OutcomeType           Adoption      Died    ...     Return_to_owner  Transfer\n",
       "AnimalType Purebreed                        ...                              \n",
       "Cat        False      0.382318  0.013142    ...            0.044757  0.495818\n",
       "           True       0.442688  0.015810    ...            0.051383  0.434783\n",
       "Dog        False      0.426506  0.003182    ...            0.266930  0.248392\n",
       "           True       0.290861  0.003515    ...            0.375220  0.286467\n",
       "\n",
       "[4 rows x 5 columns]"
      ]
     },
     "execution_count": 24,
     "metadata": {},
     "output_type": "execute_result"
    }
   ],
   "source": [
    "purebreed_xt = pd.crosstab(index=[train_data.AnimalType,train_data.Purebreed],\n",
    "                             columns=[train_data.OutcomeType],\n",
    "                             normalize='index')\n",
    "purebreed_xt.head()\n"
   ]
  },
  {
   "cell_type": "code",
   "execution_count": 25,
   "metadata": {},
   "outputs": [
    {
     "data": {
      "text/plain": [
       "<matplotlib.axes._subplots.AxesSubplot at 0x9b5bbe0>"
      ]
     },
     "execution_count": 25,
     "metadata": {},
     "output_type": "execute_result"
    },
    {
     "data": {
      "image/png": "[encoded data removed]",
      "text/plain": [
       "<Figure size 720x576 with 1 Axes>"
      ]
     },
     "metadata": {},
     "output_type": "display_data"
    }
   ],
   "source": [
    "purebreed_xt.plot.bar(stacked=True, figsize=(10,8), rot=50)\n",
    "#we see no significant correlation between outcome and pure vs. mixed breeds"
   ]
  },
  {
   "cell_type": "code",
   "execution_count": 26,
   "metadata": {},
   "outputs": [],
   "source": [
    "# We will try and reduce the number of breed types to the most popular ones and try to find some correlation to the outcome:\n",
    "d1 = train_data[['AnimalType','OutcomeType','Breed1']].copy()\n",
    "d1['Breed'] = d1.Breed1\n",
    "d1 = d1.drop('Breed1', axis = 1)\n",
    "\n",
    "d2 = train_data[['AnimalType','OutcomeType','Breed2']].copy()\n",
    "d2['Breed'] = d2.Breed2\n",
    "d2 = d2.drop('Breed2', axis = 1)\n",
    "\n",
    "d3 = train_data[['AnimalType','OutcomeType','Breed3']].copy()\n",
    "d3['Breed'] = d3.Breed3\n",
    "d3 = d3.drop('Breed3', axis = 1)\n",
    "breed_data = d1.append(d2).append(d3)\n",
    "cat_filtered_breed_data = breed_data[breed_data.AnimalType=='Cat']\n",
    "cat_filtered_breed_data = cat_filtered_breed_data.groupby('Breed').filter(lambda x: len(x) >= 100)\n",
    "filtered_breed_data = breed_data.groupby('Breed').filter(lambda x: len(x) >= 500)\n",
    "filtered2_breed_data = breed_data.groupby('Breed').filter(lambda x: (len(x) >= 100) & (len(x)<500))\n",
    "#print(d1.shape, d2.shape, d3.shape,breed_data.shape)\n",
    "dog_filtered_breed_data = filtered_breed_data[filtered_breed_data.AnimalType=='Dog']\n",
    "dog2_filtered_breed_data = filtered2_breed_data[filtered2_breed_data.AnimalType=='Dog']\n"
   ]
  },
  {
   "cell_type": "code",
   "execution_count": 27,
   "metadata": {},
   "outputs": [
    {
     "data": {
      "text/plain": [
       "<matplotlib.axes._subplots.AxesSubplot at 0x95cdcf8>"
      ]
     },
     "execution_count": 27,
     "metadata": {},
     "output_type": "execute_result"
    },
    {
     "data": {
      "image/png": "[encoded data removed]",
      "text/plain": [
       "<Figure size 720x720 with 1 Axes>"
      ]
     },
     "metadata": {},
     "output_type": "display_data"
    }
   ],
   "source": [
    "cat_breed_xt = pd.crosstab(index=[cat_filtered_breed_data.AnimalType,cat_filtered_breed_data.Breed],\n",
    "                             columns=[cat_filtered_breed_data.OutcomeType],\n",
    "                             normalize='index')\n",
    "cat_breed_xt.plot.bar(stacked=True, figsize=(10,10),rot=50)\n",
    "#we see no significant correlation between cat breed and outcome (breed with at least 100 sample size)"
   ]
  },
  {
   "cell_type": "code",
   "execution_count": 28,
   "metadata": {},
   "outputs": [
    {
     "data": {
      "text/plain": [
       "<matplotlib.axes._subplots.AxesSubplot at 0xb71d320>"
      ]
     },
     "execution_count": 28,
     "metadata": {},
     "output_type": "execute_result"
    },
    {
     "data": {
      "image/png": "[encoded data removed]",
      "text/plain": [
       "<Figure size 720x720 with 1 Axes>"
      ]
     },
     "metadata": {},
     "output_type": "display_data"
    }
   ],
   "source": [
    "dog1_breed_xt = pd.crosstab(index=[dog_filtered_breed_data.AnimalType,dog_filtered_breed_data.Breed],\n",
    "                             columns=[dog_filtered_breed_data.OutcomeType],\n",
    "                             normalize='index')\n",
    "\n",
    "dog1_breed_xt.plot.bar(stacked=True, figsize=(10,10))\n",
    "#dog breed with at least 500 sample size"
   ]
  },
  {
   "cell_type": "markdown",
   "metadata": {},
   "source": [
    "### <u><i>dog breed with sample size 100 to 500<br></u>\n",
    "Overall there doesn't seem to be a strong correlation between breed and adoption although \n",
    "Shih Tzu Mix breeds show particularly poor adoption rates, however this may be due to a small sample size.</i>"
   ]
  },
  {
   "cell_type": "code",
   "execution_count": 29,
   "metadata": {},
   "outputs": [
    {
     "data": {
      "text/plain": [
       "<matplotlib.axes._subplots.AxesSubplot at 0xbf2fba8>"
      ]
     },
     "execution_count": 29,
     "metadata": {},
     "output_type": "execute_result"
    },
    {
     "data": {
      "image/png": "[encoded data removed]",
      "text/plain": [
       "<Figure size 720x720 with 1 Axes>"
      ]
     },
     "metadata": {},
     "output_type": "display_data"
    }
   ],
   "source": [
    "dog2_breed_xt = pd.crosstab(index=[dog2_filtered_breed_data.AnimalType,dog2_filtered_breed_data.Breed],\n",
    "                             columns=[dog2_filtered_breed_data.OutcomeType],\n",
    "                             normalize='index')\n",
    "\n",
    "dog2_breed_xt.plot.bar(stacked=True, figsize=(10,10))\n"
   ]
  },
  {
   "cell_type": "code",
   "execution_count": 30,
   "metadata": {},
   "outputs": [
    {
     "data": {
      "text/plain": [
       "<matplotlib.axes._subplots.AxesSubplot at 0xc026e80>"
      ]
     },
     "execution_count": 30,
     "metadata": {},
     "output_type": "execute_result"
    },
    {
     "data": {
      "image/png": "[encoded data removed]",
      "text/plain": [
       "<Figure size 432x288 with 1 Axes>"
      ]
     },
     "metadata": {},
     "output_type": "display_data"
    }
   ],
   "source": [
    "#Since AguponOutcome is hard to work with in its current form (years, months, weeks), and the age by days range is too big, we'll add a new feature of age by years\n",
    "# bins = pd.IntervalIndex.from_tuples([(x-365, x) for x in range(365, 31*365, 365)])\n",
    "# pd.cut(train_data.Age, bins)\n",
    "train_data['AgeInYears'] = np.floor(train_data.Age / 365)\n",
    "\n",
    "# we also want to add a broader categorical column of age:\n",
    "bins = pd.IntervalIndex.from_tuples([(0, 1), (1 ,3), (3, 8), (8, 40)], closed='left')\n",
    "train_data['AgeCategories'] = pd.cut(train_data.AgeInYears, bins)\n",
    "train_data.AgeInYears.plot.hist()\n",
    "# we can see a strong bias towards young animals in the data"
   ]
  },
  {
   "cell_type": "code",
   "execution_count": 31,
   "metadata": {},
   "outputs": [
    {
     "data": {
      "text/html": [
       "<div>\n",
       "<style scoped>\n",
       "    .dataframe tbody tr th:only-of-type {\n",
       "        vertical-align: middle;\n",
       "    }\n",
       "\n",
       "    .dataframe tbody tr th {\n",
       "        vertical-align: top;\n",
       "    }\n",
       "\n",
       "    .dataframe thead th {\n",
       "        text-align: right;\n",
       "    }\n",
       "</style>\n",
       "<table border=\"1\" class=\"dataframe\">\n",
       "  <thead>\n",
       "    <tr style=\"text-align: right;\">\n",
       "      <th></th>\n",
       "      <th>OutcomeType</th>\n",
       "      <th>Adoption</th>\n",
       "      <th>Died</th>\n",
       "      <th>Euthanasia</th>\n",
       "      <th>Return_to_owner</th>\n",
       "      <th>Transfer</th>\n",
       "    </tr>\n",
       "    <tr>\n",
       "      <th>AnimalType</th>\n",
       "      <th>AgeCategories</th>\n",
       "      <th></th>\n",
       "      <th></th>\n",
       "      <th></th>\n",
       "      <th></th>\n",
       "      <th></th>\n",
       "    </tr>\n",
       "  </thead>\n",
       "  <tbody>\n",
       "    <tr>\n",
       "      <th rowspan=\"4\" valign=\"top\">Cat</th>\n",
       "      <th>[1, 3)</th>\n",
       "      <td>0.450333</td>\n",
       "      <td>0.016171</td>\n",
       "      <td>0.038864</td>\n",
       "      <td>0.010463</td>\n",
       "      <td>0.484169</td>\n",
       "    </tr>\n",
       "    <tr>\n",
       "      <th>[0, 1)</th>\n",
       "      <td>0.199253</td>\n",
       "      <td>0.006533</td>\n",
       "      <td>0.077462</td>\n",
       "      <td>0.077928</td>\n",
       "      <td>0.638824</td>\n",
       "    </tr>\n",
       "    <tr>\n",
       "      <th>[3, 8)</th>\n",
       "      <td>0.307838</td>\n",
       "      <td>0.007554</td>\n",
       "      <td>0.107649</td>\n",
       "      <td>0.164306</td>\n",
       "      <td>0.412653</td>\n",
       "    </tr>\n",
       "    <tr>\n",
       "      <th>[8, 40)</th>\n",
       "      <td>0.368705</td>\n",
       "      <td>0.010791</td>\n",
       "      <td>0.257194</td>\n",
       "      <td>0.147482</td>\n",
       "      <td>0.215827</td>\n",
       "    </tr>\n",
       "    <tr>\n",
       "      <th rowspan=\"4\" valign=\"top\">Dog</th>\n",
       "      <th>[1, 3)</th>\n",
       "      <td>0.535423</td>\n",
       "      <td>0.004414</td>\n",
       "      <td>0.018760</td>\n",
       "      <td>0.096226</td>\n",
       "      <td>0.345178</td>\n",
       "    </tr>\n",
       "    <tr>\n",
       "      <th>[0, 1)</th>\n",
       "      <td>0.451688</td>\n",
       "      <td>0.002874</td>\n",
       "      <td>0.052622</td>\n",
       "      <td>0.266164</td>\n",
       "      <td>0.226652</td>\n",
       "    </tr>\n",
       "    <tr>\n",
       "      <th>[3, 8)</th>\n",
       "      <td>0.315789</td>\n",
       "      <td>0.001490</td>\n",
       "      <td>0.072741</td>\n",
       "      <td>0.404667</td>\n",
       "      <td>0.205313</td>\n",
       "    </tr>\n",
       "    <tr>\n",
       "      <th>[8, 40)</th>\n",
       "      <td>0.193592</td>\n",
       "      <td>0.005453</td>\n",
       "      <td>0.117928</td>\n",
       "      <td>0.503067</td>\n",
       "      <td>0.179959</td>\n",
       "    </tr>\n",
       "  </tbody>\n",
       "</table>\n",
       "</div>"
      ],
      "text/plain": [
       "OutcomeType               Adoption    ...     Transfer\n",
       "AnimalType AgeCategories              ...             \n",
       "Cat        [1, 3)         0.450333    ...     0.484169\n",
       "           [0, 1)         0.199253    ...     0.638824\n",
       "           [3, 8)         0.307838    ...     0.412653\n",
       "           [8, 40)        0.368705    ...     0.215827\n",
       "Dog        [1, 3)         0.535423    ...     0.345178\n",
       "           [0, 1)         0.451688    ...     0.226652\n",
       "           [3, 8)         0.315789    ...     0.205313\n",
       "           [8, 40)        0.193592    ...     0.179959\n",
       "\n",
       "[8 rows x 5 columns]"
      ]
     },
     "execution_count": 31,
     "metadata": {},
     "output_type": "execute_result"
    }
   ],
   "source": [
    "age_xt = pd.crosstab(index=[train_data.AnimalType,train_data.AgeCategories],\n",
    "                             columns=[train_data.OutcomeType],\n",
    "                             normalize='index')\n",
    "age_xt"
   ]
  },
  {
   "cell_type": "markdown",
   "metadata": {},
   "source": [
    "### <i>\n",
    "We can see that the probability of euthanasia increases with age, which is to be expected.<br>\n",
    "In dogs we see that younger dogs get adopted, while older dogs get returned to their owners more.<br>\n",
    "In cats the behavior is a bit less consistent.<br>\n",
    "The \"best\" age for adoption seems to be 1-3 years old.</i>"
   ]
  },
  {
   "cell_type": "code",
   "execution_count": 32,
   "metadata": {},
   "outputs": [
    {
     "data": {
      "text/plain": [
       "<matplotlib.axes._subplots.AxesSubplot at 0xc3c5978>"
      ]
     },
     "execution_count": 32,
     "metadata": {},
     "output_type": "execute_result"
    },
    {
     "data": {
      "image/png": "[encoded data removed]",
      "text/plain": [
       "<Figure size 1008x864 with 2 Axes>"
      ]
     },
     "metadata": {},
     "output_type": "display_data"
    }
   ],
   "source": [
    "fig, axes = plt.subplots(nrows=2, ncols=1)\n",
    "plt.subplots_adjust(hspace=0.5)\n",
    "age_xt.filter(like='Dog', axis=0).plot.bar(stacked=True, figsize=(14,12), rot=50, ax=axes[0], sharex=False)\n",
    "age_xt.filter(like='Cat', axis=0).plot.bar(stacked=True, figsize=(14,12), rot=50, ax=axes[1], sharex=False)"
   ]
  },
  {
   "cell_type": "code",
   "execution_count": 33,
   "metadata": {},
   "outputs": [
    {
     "data": {
      "text/html": [
       "<div>\n",
       "<style scoped>\n",
       "    .dataframe tbody tr th:only-of-type {\n",
       "        vertical-align: middle;\n",
       "    }\n",
       "\n",
       "    .dataframe tbody tr th {\n",
       "        vertical-align: top;\n",
       "    }\n",
       "\n",
       "    .dataframe thead th {\n",
       "        text-align: right;\n",
       "    }\n",
       "</style>\n",
       "<table border=\"1\" class=\"dataframe\">\n",
       "  <thead>\n",
       "    <tr style=\"text-align: right;\">\n",
       "      <th></th>\n",
       "      <th>OutcomeType</th>\n",
       "      <th>Adoption</th>\n",
       "      <th>Died</th>\n",
       "      <th>Euthanasia</th>\n",
       "      <th>Return_to_owner</th>\n",
       "      <th>Transfer</th>\n",
       "    </tr>\n",
       "    <tr>\n",
       "      <th>AnimalType</th>\n",
       "      <th>Sex</th>\n",
       "      <th></th>\n",
       "      <th></th>\n",
       "      <th></th>\n",
       "      <th></th>\n",
       "      <th></th>\n",
       "    </tr>\n",
       "  </thead>\n",
       "  <tbody>\n",
       "    <tr>\n",
       "      <th rowspan=\"2\" valign=\"top\">Cat</th>\n",
       "      <th>Female</th>\n",
       "      <td>0.424112</td>\n",
       "      <td>0.009949</td>\n",
       "      <td>0.054819</td>\n",
       "      <td>0.045064</td>\n",
       "      <td>0.466055</td>\n",
       "    </tr>\n",
       "    <tr>\n",
       "      <th>Male</th>\n",
       "      <td>0.420272</td>\n",
       "      <td>0.014623</td>\n",
       "      <td>0.067909</td>\n",
       "      <td>0.052484</td>\n",
       "      <td>0.444712</td>\n",
       "    </tr>\n",
       "    <tr>\n",
       "      <th rowspan=\"2\" valign=\"top\">Dog</th>\n",
       "      <th>Female</th>\n",
       "      <td>0.446218</td>\n",
       "      <td>0.003192</td>\n",
       "      <td>0.048855</td>\n",
       "      <td>0.252325</td>\n",
       "      <td>0.249410</td>\n",
       "    </tr>\n",
       "    <tr>\n",
       "      <th>Male</th>\n",
       "      <td>0.394851</td>\n",
       "      <td>0.003008</td>\n",
       "      <td>0.057988</td>\n",
       "      <td>0.296198</td>\n",
       "      <td>0.247955</td>\n",
       "    </tr>\n",
       "  </tbody>\n",
       "</table>\n",
       "</div>"
      ],
      "text/plain": [
       "OutcomeType        Adoption      Died    ...     Return_to_owner  Transfer\n",
       "AnimalType Sex                           ...                              \n",
       "Cat        Female  0.424112  0.009949    ...            0.045064  0.466055\n",
       "           Male    0.420272  0.014623    ...            0.052484  0.444712\n",
       "Dog        Female  0.446218  0.003192    ...            0.252325  0.249410\n",
       "           Male    0.394851  0.003008    ...            0.296198  0.247955\n",
       "\n",
       "[4 rows x 5 columns]"
      ]
     },
     "execution_count": 33,
     "metadata": {},
     "output_type": "execute_result"
    }
   ],
   "source": [
    "sex_xt = pd.crosstab(index=[train_data.AnimalType,train_data.Sex],\n",
    "                             columns=[train_data.OutcomeType],\n",
    "                             normalize='index')\n",
    "\n",
    "sex_xt"
   ]
  },
  {
   "cell_type": "code",
   "execution_count": 34,
   "metadata": {},
   "outputs": [
    {
     "data": {
      "text/plain": [
       "<matplotlib.axes._subplots.AxesSubplot at 0xc85a470>"
      ]
     },
     "execution_count": 34,
     "metadata": {},
     "output_type": "execute_result"
    },
    {
     "data": {
      "image/png": "[encoded data removed]",
      "text/plain": [
       "<Figure size 1008x576 with 1 Axes>"
      ]
     },
     "metadata": {},
     "output_type": "display_data"
    }
   ],
   "source": [
    "sex_xt.plot.bar(stacked=True, figsize=(14,8), rot=50)\n",
    "# the sex of the animal doesn't seem to make a large difference in the outcome"
   ]
  },
  {
   "cell_type": "code",
   "execution_count": 35,
   "metadata": {},
   "outputs": [
    {
     "data": {
      "text/html": [
       "<div>\n",
       "<style scoped>\n",
       "    .dataframe tbody tr th:only-of-type {\n",
       "        vertical-align: middle;\n",
       "    }\n",
       "\n",
       "    .dataframe tbody tr th {\n",
       "        vertical-align: top;\n",
       "    }\n",
       "\n",
       "    .dataframe thead th {\n",
       "        text-align: right;\n",
       "    }\n",
       "</style>\n",
       "<table border=\"1\" class=\"dataframe\">\n",
       "  <thead>\n",
       "    <tr style=\"text-align: right;\">\n",
       "      <th></th>\n",
       "      <th>OutcomeType</th>\n",
       "      <th>Adoption</th>\n",
       "      <th>Died</th>\n",
       "      <th>Euthanasia</th>\n",
       "      <th>Return_to_owner</th>\n",
       "      <th>Transfer</th>\n",
       "    </tr>\n",
       "    <tr>\n",
       "      <th>AnimalType</th>\n",
       "      <th>SingleColor</th>\n",
       "      <th></th>\n",
       "      <th></th>\n",
       "      <th></th>\n",
       "      <th></th>\n",
       "      <th></th>\n",
       "    </tr>\n",
       "  </thead>\n",
       "  <tbody>\n",
       "    <tr>\n",
       "      <th rowspan=\"2\" valign=\"top\">Cat</th>\n",
       "      <th>False</th>\n",
       "      <td>0.390120</td>\n",
       "      <td>0.015279</td>\n",
       "      <td>0.069264</td>\n",
       "      <td>0.049402</td>\n",
       "      <td>0.475936</td>\n",
       "    </tr>\n",
       "    <tr>\n",
       "      <th>True</th>\n",
       "      <td>0.380186</td>\n",
       "      <td>0.012072</td>\n",
       "      <td>0.060774</td>\n",
       "      <td>0.042459</td>\n",
       "      <td>0.504510</td>\n",
       "    </tr>\n",
       "    <tr>\n",
       "      <th rowspan=\"2\" valign=\"top\">Dog</th>\n",
       "      <th>False</th>\n",
       "      <td>0.428529</td>\n",
       "      <td>0.003101</td>\n",
       "      <td>0.056117</td>\n",
       "      <td>0.269581</td>\n",
       "      <td>0.242673</td>\n",
       "    </tr>\n",
       "    <tr>\n",
       "      <th>True</th>\n",
       "      <td>0.395320</td>\n",
       "      <td>0.003394</td>\n",
       "      <td>0.050732</td>\n",
       "      <td>0.284209</td>\n",
       "      <td>0.266345</td>\n",
       "    </tr>\n",
       "  </tbody>\n",
       "</table>\n",
       "</div>"
      ],
      "text/plain": [
       "OutcomeType             Adoption      Died    ...     Return_to_owner  Transfer\n",
       "AnimalType SingleColor                        ...                              \n",
       "Cat        False        0.390120  0.015279    ...            0.049402  0.475936\n",
       "           True         0.380186  0.012072    ...            0.042459  0.504510\n",
       "Dog        False        0.428529  0.003101    ...            0.269581  0.242673\n",
       "           True         0.395320  0.003394    ...            0.284209  0.266345\n",
       "\n",
       "[4 rows x 5 columns]"
      ]
     },
     "execution_count": 35,
     "metadata": {},
     "output_type": "execute_result"
    }
   ],
   "source": [
    "single_color_xt = pd.crosstab(index=[train_data.AnimalType,train_data.SingleColor],\n",
    "                             columns=[train_data.OutcomeType],\n",
    "                             normalize='index')\n",
    "\n",
    "single_color_xt"
   ]
  },
  {
   "cell_type": "code",
   "execution_count": 36,
   "metadata": {},
   "outputs": [
    {
     "data": {
      "text/plain": [
       "<matplotlib.axes._subplots.AxesSubplot at 0xc8df3c8>"
      ]
     },
     "execution_count": 36,
     "metadata": {},
     "output_type": "execute_result"
    },
    {
     "data": {
      "image/png": "[encoded data removed]",
      "text/plain": [
       "<Figure size 1008x576 with 1 Axes>"
      ]
     },
     "metadata": {},
     "output_type": "display_data"
    }
   ],
   "source": [
    "single_color_xt.plot.bar(stacked=True, figsize=(14,8), rot=50)\n",
    "# color doesn't seem to make a difference as well"
   ]
  },
  {
   "cell_type": "markdown",
   "metadata": {},
   "source": [
    "### <i><u><b>Conclusion</b></u><br>\n",
    "We managed to find some trends in the data, as well as find some biases (age of the animal for instance).<br>\n",
    "In order to find more complex relationships we will need the help of machine learning.<br>\n",
    "We believe we have derived enough good features out of the existing data to help create a good model for predicting the outcome.<br>\n",
    "We intend to use the simpler features for the model:<br>\n",
    "HasName, Intact, Sex, Purebreed, SingleColor, AgeCategories.<br>\n",
    "We expect features that didn't show much significance in the manual analysis to not have much importance in the machine-learning model,<br>\n",
    "however we don't want to remove them before testing this assumption, since there are always surprises and hidden relations.</i>"
   ]
  },
  {
   "cell_type": "markdown",
   "metadata": {},
   "source": [
    "# Machine Learning #"
   ]
  },
  {
   "cell_type": "code",
   "execution_count": 37,
   "metadata": {},
   "outputs": [],
   "source": [
    "from sklearn.tree import DecisionTreeClassifier\n",
    "from sklearn.linear_model import LogisticRegression\n",
    "from sklearn.preprocessing import StandardScaler, MaxAbsScaler, MinMaxScaler\n",
    "from sklearn.decomposition import PCA\n",
    "from sklearn import neighbors, linear_model\n",
    "from sklearn.metrics import classification_report, accuracy_score\n",
    "from sklearn.svm import SVC\n",
    "from sklearn.svm import LinearSVC\n",
    "from sklearn.model_selection import train_test_split, cross_val_score, GridSearchCV\n",
    "from sklearn.pipeline import Pipeline\n",
    "from sklearn.preprocessing import LabelEncoder\n",
    "from sklearn.ensemble import RandomForestClassifier\n",
    "from pandas.plotting import scatter_matrix\n",
    "from sklearn.ensemble import VotingClassifier, BaggingClassifier, AdaBoostClassifier, GradientBoostingClassifier"
   ]
  },
  {
   "cell_type": "code",
   "execution_count": 38,
   "metadata": {},
   "outputs": [
    {
     "data": {
      "text/html": [
       "<div>\n",
       "<style scoped>\n",
       "    .dataframe tbody tr th:only-of-type {\n",
       "        vertical-align: middle;\n",
       "    }\n",
       "\n",
       "    .dataframe tbody tr th {\n",
       "        vertical-align: top;\n",
       "    }\n",
       "\n",
       "    .dataframe thead th {\n",
       "        text-align: right;\n",
       "    }\n",
       "</style>\n",
       "<table border=\"1\" class=\"dataframe\">\n",
       "  <thead>\n",
       "    <tr style=\"text-align: right;\">\n",
       "      <th></th>\n",
       "      <th>Name</th>\n",
       "      <th>DateTime</th>\n",
       "      <th>OutcomeType</th>\n",
       "      <th>OutcomeSubtype</th>\n",
       "      <th>AnimalType</th>\n",
       "      <th>SexuponOutcome</th>\n",
       "      <th>AgeuponOutcome</th>\n",
       "      <th>Breed</th>\n",
       "      <th>Color</th>\n",
       "      <th>HasName</th>\n",
       "      <th>Intact</th>\n",
       "      <th>Sex</th>\n",
       "      <th>Breed1</th>\n",
       "      <th>Breed2</th>\n",
       "      <th>Breed3</th>\n",
       "      <th>Color1</th>\n",
       "      <th>Color2</th>\n",
       "      <th>Purebreed</th>\n",
       "      <th>SingleColor</th>\n",
       "      <th>Age</th>\n",
       "      <th>AgeInYears</th>\n",
       "      <th>AgeCategories</th>\n",
       "    </tr>\n",
       "    <tr>\n",
       "      <th>AnimalID</th>\n",
       "      <th></th>\n",
       "      <th></th>\n",
       "      <th></th>\n",
       "      <th></th>\n",
       "      <th></th>\n",
       "      <th></th>\n",
       "      <th></th>\n",
       "      <th></th>\n",
       "      <th></th>\n",
       "      <th></th>\n",
       "      <th></th>\n",
       "      <th></th>\n",
       "      <th></th>\n",
       "      <th></th>\n",
       "      <th></th>\n",
       "      <th></th>\n",
       "      <th></th>\n",
       "      <th></th>\n",
       "      <th></th>\n",
       "      <th></th>\n",
       "      <th></th>\n",
       "      <th></th>\n",
       "    </tr>\n",
       "  </thead>\n",
       "  <tbody>\n",
       "    <tr>\n",
       "      <th>671945</th>\n",
       "      <td>Hambone</td>\n",
       "      <td>2014-02-12 18:22:00</td>\n",
       "      <td>Return_to_owner</td>\n",
       "      <td>NaN</td>\n",
       "      <td>Dog</td>\n",
       "      <td>Neutered Male</td>\n",
       "      <td>1 year</td>\n",
       "      <td>Shetland Sheepdog Mix</td>\n",
       "      <td>Brown/White</td>\n",
       "      <td>True</td>\n",
       "      <td>False</td>\n",
       "      <td>Male</td>\n",
       "      <td>Shetland Sheepdog Mix</td>\n",
       "      <td>None</td>\n",
       "      <td>None</td>\n",
       "      <td>Brown</td>\n",
       "      <td>White</td>\n",
       "      <td>False</td>\n",
       "      <td>False</td>\n",
       "      <td>365.0</td>\n",
       "      <td>1.0</td>\n",
       "      <td>[1, 3)</td>\n",
       "    </tr>\n",
       "    <tr>\n",
       "      <th>656520</th>\n",
       "      <td>Emily</td>\n",
       "      <td>2013-10-13 12:44:00</td>\n",
       "      <td>Euthanasia</td>\n",
       "      <td>Suffering</td>\n",
       "      <td>Cat</td>\n",
       "      <td>Spayed Female</td>\n",
       "      <td>1 year</td>\n",
       "      <td>Domestic Shorthair Mix</td>\n",
       "      <td>Cream Tabby</td>\n",
       "      <td>True</td>\n",
       "      <td>False</td>\n",
       "      <td>Female</td>\n",
       "      <td>Domestic Shorthair Mix</td>\n",
       "      <td>None</td>\n",
       "      <td>None</td>\n",
       "      <td>Cream Tabby</td>\n",
       "      <td>None</td>\n",
       "      <td>False</td>\n",
       "      <td>True</td>\n",
       "      <td>365.0</td>\n",
       "      <td>1.0</td>\n",
       "      <td>[1, 3)</td>\n",
       "    </tr>\n",
       "    <tr>\n",
       "      <th>686464</th>\n",
       "      <td>Pearce</td>\n",
       "      <td>2015-01-31 12:28:00</td>\n",
       "      <td>Adoption</td>\n",
       "      <td>Foster</td>\n",
       "      <td>Dog</td>\n",
       "      <td>Neutered Male</td>\n",
       "      <td>2 years</td>\n",
       "      <td>Pit Bull Mix</td>\n",
       "      <td>Blue/White</td>\n",
       "      <td>True</td>\n",
       "      <td>False</td>\n",
       "      <td>Male</td>\n",
       "      <td>Pit Bull Mix</td>\n",
       "      <td>None</td>\n",
       "      <td>None</td>\n",
       "      <td>Blue</td>\n",
       "      <td>White</td>\n",
       "      <td>False</td>\n",
       "      <td>False</td>\n",
       "      <td>730.0</td>\n",
       "      <td>2.0</td>\n",
       "      <td>[1, 3)</td>\n",
       "    </tr>\n",
       "    <tr>\n",
       "      <th>683430</th>\n",
       "      <td>NaN</td>\n",
       "      <td>2014-07-11 19:09:00</td>\n",
       "      <td>Transfer</td>\n",
       "      <td>Partner</td>\n",
       "      <td>Cat</td>\n",
       "      <td>Intact Male</td>\n",
       "      <td>3 weeks</td>\n",
       "      <td>Domestic Shorthair Mix</td>\n",
       "      <td>Blue Cream</td>\n",
       "      <td>False</td>\n",
       "      <td>True</td>\n",
       "      <td>Male</td>\n",
       "      <td>Domestic Shorthair Mix</td>\n",
       "      <td>None</td>\n",
       "      <td>None</td>\n",
       "      <td>Blue Cream</td>\n",
       "      <td>None</td>\n",
       "      <td>False</td>\n",
       "      <td>True</td>\n",
       "      <td>21.0</td>\n",
       "      <td>0.0</td>\n",
       "      <td>[0, 1)</td>\n",
       "    </tr>\n",
       "    <tr>\n",
       "      <th>667013</th>\n",
       "      <td>NaN</td>\n",
       "      <td>2013-11-15 12:52:00</td>\n",
       "      <td>Transfer</td>\n",
       "      <td>Partner</td>\n",
       "      <td>Dog</td>\n",
       "      <td>Neutered Male</td>\n",
       "      <td>2 years</td>\n",
       "      <td>Lhasa Apso/Miniature Poodle</td>\n",
       "      <td>Tan</td>\n",
       "      <td>False</td>\n",
       "      <td>False</td>\n",
       "      <td>Male</td>\n",
       "      <td>Lhasa Apso</td>\n",
       "      <td>Miniature Poodle</td>\n",
       "      <td>None</td>\n",
       "      <td>Tan</td>\n",
       "      <td>None</td>\n",
       "      <td>False</td>\n",
       "      <td>True</td>\n",
       "      <td>730.0</td>\n",
       "      <td>2.0</td>\n",
       "      <td>[1, 3)</td>\n",
       "    </tr>\n",
       "  </tbody>\n",
       "</table>\n",
       "</div>"
      ],
      "text/plain": [
       "             Name            DateTime      ...      AgeInYears AgeCategories\n",
       "AnimalID                                   ...                              \n",
       "671945    Hambone 2014-02-12 18:22:00      ...             1.0        [1, 3)\n",
       "656520      Emily 2013-10-13 12:44:00      ...             1.0        [1, 3)\n",
       "686464     Pearce 2015-01-31 12:28:00      ...             2.0        [1, 3)\n",
       "683430        NaN 2014-07-11 19:09:00      ...             0.0        [0, 1)\n",
       "667013        NaN 2013-11-15 12:52:00      ...             2.0        [1, 3)\n",
       "\n",
       "[5 rows x 22 columns]"
      ]
     },
     "execution_count": 38,
     "metadata": {},
     "output_type": "execute_result"
    }
   ],
   "source": [
    "train_data.head()"
   ]
  },
  {
   "cell_type": "markdown",
   "metadata": {},
   "source": [
    "### Part 1 - KNearestNeighobrs and SVM"
   ]
  },
  {
   "cell_type": "markdown",
   "metadata": {},
   "source": [
    "We will try to predict the animal outcome using the K-Nearest Neighbors and SVM algorithms"
   ]
  },
  {
   "cell_type": "markdown",
   "metadata": {},
   "source": [
    "#### Additional data clean and pre-processing"
   ]
  },
  {
   "cell_type": "markdown",
   "metadata": {},
   "source": [
    "We will drop all the textual columns, leaving only binary and numeric columns we added in the previous part.\n",
    "We hope this will help the algorithms to better predictt he outcome."
   ]
  },
  {
   "cell_type": "code",
   "execution_count": 56,
   "metadata": {},
   "outputs": [],
   "source": [
    "train_data['AgeInMonths'] = (train_data.Age / 30.42).round() #average number of days per month\n",
    "drop_cols=['Name','DateTime','OutcomeSubtype','SexuponOutcome','AgeuponOutcome','Breed','Color','Breed1','Breed2','Breed3','Color1','Color2','Age','AgeCategories']\n",
    "# outcome_type_label_encoder = LabelEncoder()\n",
    "# train_data_ml['OutcomeType'] = outcome_type_label_encoder.fit_transform(train_data_ml.OutcomeType)"
   ]
  },
  {
   "cell_type": "code",
   "execution_count": 57,
   "metadata": {},
   "outputs": [],
   "source": [
    "train_data_ml = train_data.drop(columns=drop_cols)\n",
    "train_data_ml = pd.get_dummies(train_data_ml, columns=['AnimalType','Sex'],drop_first=True)"
   ]
  },
  {
   "cell_type": "markdown",
   "metadata": {},
   "source": [
    "We will remove additional rows with missing values. We decided to remove them instead of trying to fill them because their number is negligible compared to the rest of the data."
   ]
  },
  {
   "cell_type": "code",
   "execution_count": 58,
   "metadata": {},
   "outputs": [
    {
     "data": {
      "text/plain": [
       "Int64Index([667395], dtype='int64', name='AnimalID')"
      ]
     },
     "execution_count": 58,
     "metadata": {},
     "output_type": "execute_result"
    }
   ],
   "source": [
    "train_data_ml[train_data_ml['Intact'].isna()].index"
   ]
  },
  {
   "cell_type": "code",
   "execution_count": 59,
   "metadata": {},
   "outputs": [],
   "source": [
    "train_data_ml = train_data_ml.drop(train_data_ml[train_data_ml['Intact'].isna()].index)"
   ]
  },
  {
   "cell_type": "code",
   "execution_count": 60,
   "metadata": {},
   "outputs": [
    {
     "data": {
      "text/plain": [
       "Int64Index([], dtype='int64', name='AnimalID')"
      ]
     },
     "execution_count": 60,
     "metadata": {},
     "output_type": "execute_result"
    }
   ],
   "source": [
    "train_data_ml[train_data_ml['Intact'].isna()].index"
   ]
  },
  {
   "cell_type": "code",
   "execution_count": 61,
   "metadata": {},
   "outputs": [
    {
     "data": {
      "text/plain": [
       "Int64Index([720674, 720973, 720820, 721076, 720422, 720697, 720640, 720636,\n",
       "            720701, 720782, 720780, 720653, 720652, 720534, 720781, 720908,\n",
       "            721113, 720502],\n",
       "           dtype='int64', name='AnimalID')"
      ]
     },
     "execution_count": 61,
     "metadata": {},
     "output_type": "execute_result"
    }
   ],
   "source": [
    "train_data_ml[train_data_ml['AgeInYears'].isna()].index"
   ]
  },
  {
   "cell_type": "code",
   "execution_count": 62,
   "metadata": {},
   "outputs": [],
   "source": [
    "train_data_ml = train_data_ml.drop(train_data_ml[train_data_ml['AgeInYears'].isna()].index)"
   ]
  },
  {
   "cell_type": "code",
   "execution_count": 63,
   "metadata": {},
   "outputs": [
    {
     "data": {
      "text/plain": [
       "Int64Index([], dtype='int64', name='AnimalID')"
      ]
     },
     "execution_count": 63,
     "metadata": {},
     "output_type": "execute_result"
    }
   ],
   "source": [
    "train_data_ml[train_data_ml['AgeInYears'].isna()].index"
   ]
  },
  {
   "cell_type": "markdown",
   "metadata": {},
   "source": [
    "Removing the 'AgeInYears' column because we added the 'AgeInMonths' column"
   ]
  },
  {
   "cell_type": "code",
   "execution_count": 64,
   "metadata": {},
   "outputs": [],
   "source": [
    "train_data_ml = train_data_ml.drop(columns='AgeInYears')"
   ]
  },
  {
   "cell_type": "markdown",
   "metadata": {},
   "source": [
    "Use get_dummies on the remaining text column. This column was significant in predicting the outcome in the previous section"
   ]
  },
  {
   "cell_type": "code",
   "execution_count": 65,
   "metadata": {},
   "outputs": [],
   "source": [
    "train_data_ml = pd.get_dummies(train_data_ml, columns=['Intact'])"
   ]
  },
  {
   "cell_type": "code",
   "execution_count": 66,
   "metadata": {},
   "outputs": [],
   "source": [
    "# train_data_ml = pd.get_dummies(train_data_ml, columns=['AgeInYears'])\n",
    "# age_in_years_label_encoder = LabelEncoder()\n",
    "# train_data_ml['AgeInYears'] = age_in_years_label_encoder.fit_transform(train_data_ml.AgeInYears)"
   ]
  },
  {
   "cell_type": "markdown",
   "metadata": {},
   "source": [
    "Split the data"
   ]
  },
  {
   "cell_type": "code",
   "execution_count": 67,
   "metadata": {},
   "outputs": [
    {
     "name": "stderr",
     "output_type": "stream",
     "text": [
      "C:\\ProgramData\\Anaconda3\\lib\\site-packages\\sklearn\\model_selection\\_split.py:2026: FutureWarning: From version 0.21, test_size will always complement train_size unless both are specified.\n",
      "  FutureWarning)\n"
     ]
    }
   ],
   "source": [
    "X = train_data_ml.drop(columns='OutcomeType')\n",
    "y = train_data_ml.OutcomeType\n",
    "X_train, X_test, y_train, y_test = train_test_split(X, y,train_size=0.7, random_state=12345)"
   ]
  },
  {
   "cell_type": "markdown",
   "metadata": {},
   "source": [
    "### SVC"
   ]
  },
  {
   "cell_type": "markdown",
   "metadata": {},
   "source": [
    "We will try both linear SVC and RBF based SVC"
   ]
  },
  {
   "cell_type": "code",
   "execution_count": 68,
   "metadata": {},
   "outputs": [],
   "source": [
    "svc_clf = SVC(kernel='rbf', C=1)\n",
    "linear_svc_clf = LinearSVC(C=1)"
   ]
  },
  {
   "cell_type": "code",
   "execution_count": 69,
   "metadata": {},
   "outputs": [],
   "source": [
    "# svc_clf.fit(X,y)"
   ]
  },
  {
   "cell_type": "markdown",
   "metadata": {},
   "source": [
    "linear SVC"
   ]
  },
  {
   "cell_type": "code",
   "execution_count": 70,
   "metadata": {},
   "outputs": [
    {
     "name": "stdout",
     "output_type": "stream",
     "text": [
      "mean: 0.63, std: 0.0\n"
     ]
    }
   ],
   "source": [
    "steps = [('scale', StandardScaler()), ('clf', linear_svc_clf)]\n",
    "pipe = Pipeline(steps)\n",
    "svc_scores = cross_val_score(pipe, X, y, cv=3)\n",
    "print(f'mean: {svc_scores.mean().round(2)}, std: {svc_scores.std().round(2)}')"
   ]
  },
  {
   "cell_type": "code",
   "execution_count": 72,
   "metadata": {},
   "outputs": [
    {
     "data": {
      "text/plain": [
       "Pipeline(memory=None,\n",
       "     steps=[('scale', StandardScaler(copy=True, with_mean=True, with_std=True)), ('clf', LinearSVC(C=1, class_weight=None, dual=True, fit_intercept=True,\n",
       "     intercept_scaling=1, loss='squared_hinge', max_iter=1000,\n",
       "     multi_class='ovr', penalty='l2', random_state=None, tol=0.0001,\n",
       "     verbose=0))])"
      ]
     },
     "execution_count": 72,
     "metadata": {},
     "output_type": "execute_result"
    }
   ],
   "source": [
    "pipe = Pipeline(steps)\n",
    "pipe.fit(X_train,y_train)"
   ]
  },
  {
   "cell_type": "code",
   "execution_count": 73,
   "metadata": {},
   "outputs": [
    {
     "name": "stdout",
     "output_type": "stream",
     "text": [
      "                 precision    recall  f1-score   support\n",
      "\n",
      "       Adoption       0.90      0.62      0.73      4756\n",
      "           Died       0.00      0.00      0.00         0\n",
      "     Euthanasia       0.00      1.00      0.00         1\n",
      "Return_to_owner       0.27      0.46      0.34       815\n",
      "       Transfer       0.63      0.72      0.67      2441\n",
      "\n",
      "    avg / total       0.75      0.63      0.67      8013\n",
      "\n"
     ]
    },
    {
     "name": "stderr",
     "output_type": "stream",
     "text": [
      "C:\\ProgramData\\Anaconda3\\lib\\site-packages\\sklearn\\metrics\\classification.py:1137: UndefinedMetricWarning: Recall and F-score are ill-defined and being set to 0.0 in labels with no true samples.\n",
      "  'recall', 'true', average, warn_for)\n"
     ]
    }
   ],
   "source": [
    "print(classification_report(pipe.predict(X_test),y_test))\n"
   ]
  },
  {
   "cell_type": "markdown",
   "metadata": {},
   "source": [
    "We can see that the results are better than a random guess, but are not very accurate.\n",
    "We can also see that we did very poorly in predicting the 'Died' and 'Euthanasia' outcomes. This is not surprising, since their value count is very small compared to the rest of the data.\n",
    "Perhaps changing the C value to a higher value will help to deal with this."
   ]
  },
  {
   "cell_type": "code",
   "execution_count": 74,
   "metadata": {},
   "outputs": [
    {
     "name": "stdout",
     "output_type": "stream",
     "text": [
      "mean: 0.58, std: 0.02\n",
      "                 precision    recall  f1-score   support\n",
      "\n",
      "       Adoption       0.80      0.65      0.72      4035\n",
      "           Died       0.00      0.00      0.00         0\n",
      "     Euthanasia       0.01      0.04      0.02       118\n",
      "Return_to_owner       0.04      0.39      0.08       152\n",
      "       Transfer       0.69      0.52      0.59      3708\n",
      "\n",
      "    avg / total       0.72      0.58      0.64      8013\n",
      "\n"
     ]
    },
    {
     "name": "stderr",
     "output_type": "stream",
     "text": [
      "C:\\ProgramData\\Anaconda3\\lib\\site-packages\\sklearn\\metrics\\classification.py:1137: UndefinedMetricWarning: Recall and F-score are ill-defined and being set to 0.0 in labels with no true samples.\n",
      "  'recall', 'true', average, warn_for)\n"
     ]
    }
   ],
   "source": [
    "linear_svc_clf = LinearSVC(C=100)\n",
    "steps = [('scale', StandardScaler()), ('clf', linear_svc_clf)]\n",
    "pipe = Pipeline(steps)\n",
    "svc_scores = cross_val_score(pipe, X, y, cv=3)\n",
    "print(f'mean: {svc_scores.mean().round(2)}, std: {svc_scores.std().round(2)}')\n",
    "pipe.fit(X,y)\n",
    "print(classification_report(pipe.predict(X_test),y_test))"
   ]
  },
  {
   "cell_type": "markdown",
   "metadata": {},
   "source": [
    "Changing \"C\" value to 100 did not help the prediciton. Next we will try RBF based SVC"
   ]
  },
  {
   "cell_type": "code",
   "execution_count": 75,
   "metadata": {},
   "outputs": [],
   "source": [
    "steps = [('scale', StandardScaler()), ('clf', svc_clf)]\n",
    "pipe2 = Pipeline(steps)\n"
   ]
  },
  {
   "cell_type": "code",
   "execution_count": 76,
   "metadata": {},
   "outputs": [
    {
     "name": "stdout",
     "output_type": "stream",
     "text": [
      "[0.63391353 0.64207098 0.64655657]\n"
     ]
    }
   ],
   "source": [
    "print(cross_val_score(pipe2, X, y, cv=3))\n"
   ]
  },
  {
   "cell_type": "code",
   "execution_count": 77,
   "metadata": {},
   "outputs": [
    {
     "name": "stdout",
     "output_type": "stream",
     "text": [
      "                 precision    recall  f1-score   support\n",
      "\n",
      "       Adoption       0.88      0.64      0.74      4565\n",
      "           Died       0.00      0.00      0.00         0\n",
      "     Euthanasia       0.10      0.70      0.17        66\n",
      "Return_to_owner       0.36      0.48      0.41      1044\n",
      "       Transfer       0.63      0.74      0.68      2338\n",
      "\n",
      "    avg / total       0.73      0.65      0.67      8013\n",
      "\n"
     ]
    },
    {
     "name": "stderr",
     "output_type": "stream",
     "text": [
      "C:\\ProgramData\\Anaconda3\\lib\\site-packages\\sklearn\\metrics\\classification.py:1137: UndefinedMetricWarning: Recall and F-score are ill-defined and being set to 0.0 in labels with no true samples.\n",
      "  'recall', 'true', average, warn_for)\n"
     ]
    }
   ],
   "source": [
    "pipe2.fit(X_train,y_train)\n",
    "print(classification_report(pipe2.predict(X_test),y_test))"
   ]
  },
  {
   "cell_type": "markdown",
   "metadata": {},
   "source": [
    "RBF based SVC does not perform well either in predicting the animal outcome results."
   ]
  },
  {
   "cell_type": "markdown",
   "metadata": {},
   "source": [
    "#### Grid Search"
   ]
  },
  {
   "cell_type": "markdown",
   "metadata": {},
   "source": [
    "We decided to skip grid search for SVC because of extremely long running times that did not improve the results in the end."
   ]
  },
  {
   "cell_type": "code",
   "execution_count": 56,
   "metadata": {},
   "outputs": [],
   "source": [
    "# steps = [('scale', StandardScaler()), ('clf', SVC())]\n",
    "\n",
    "# pipe = Pipeline(steps)\n",
    "\n",
    "# parameters = {'clf__C': [0.1,0.5,1,10,50,100,500]}\n",
    "\n",
    "# grid_search = GridSearchCV(pipe, parameters, cv=3)"
   ]
  },
  {
   "cell_type": "code",
   "execution_count": 57,
   "metadata": {},
   "outputs": [],
   "source": [
    "#grid_search.fit(X, y)"
   ]
  },
  {
   "cell_type": "code",
   "execution_count": 58,
   "metadata": {},
   "outputs": [],
   "source": [
    "#grid_search.best_score_"
   ]
  },
  {
   "cell_type": "code",
   "execution_count": 59,
   "metadata": {},
   "outputs": [],
   "source": [
    "#grid_search.best_params_"
   ]
  },
  {
   "cell_type": "markdown",
   "metadata": {},
   "source": [
    "### KNN"
   ]
  },
  {
   "cell_type": "markdown",
   "metadata": {},
   "source": [
    "Next we will try to use a K-Nearest Neighbors predictor in order to predict the animal outcome.\n",
    "We will add a scaler and PCA, and try to find the feature mix that best predicts the outcome"
   ]
  },
  {
   "cell_type": "code",
   "execution_count": 79,
   "metadata": {},
   "outputs": [],
   "source": [
    "knn = neighbors.KNeighborsClassifier(n_neighbors=5)"
   ]
  },
  {
   "cell_type": "code",
   "execution_count": 80,
   "metadata": {},
   "outputs": [],
   "source": [
    "pca = PCA()\n",
    "stdsc = StandardScaler()\n",
    "minmax = MinMaxScaler()\n",
    "maxabs = MaxAbsScaler()"
   ]
  },
  {
   "cell_type": "code",
   "execution_count": 81,
   "metadata": {},
   "outputs": [],
   "source": [
    "X_trnsf = minmax.fit_transform(X,y)"
   ]
  },
  {
   "cell_type": "code",
   "execution_count": 82,
   "metadata": {},
   "outputs": [],
   "source": [
    "blah = pca.fit_transform(X_trnsf,y)"
   ]
  },
  {
   "cell_type": "code",
   "execution_count": 85,
   "metadata": {},
   "outputs": [
    {
     "data": {
      "text/plain": [
       "array([0.3503117 , 0.5437875 , 0.7097542 , 0.83006418, 0.92057912,\n",
       "       0.95405303, 0.98655365, 1.        , 1.        ])"
      ]
     },
     "execution_count": 85,
     "metadata": {},
     "output_type": "execute_result"
    }
   ],
   "source": [
    "pca.explained_variance_ratio_.cumsum()"
   ]
  },
  {
   "cell_type": "code",
   "execution_count": 86,
   "metadata": {},
   "outputs": [],
   "source": [
    "pca = PCA(n_components=7)"
   ]
  },
  {
   "cell_type": "code",
   "execution_count": 87,
   "metadata": {},
   "outputs": [],
   "source": [
    "steps = [('scale', minmax), ('pca',pca), ('clf', knn)]\n",
    "# steps = [('pca',PCA(n_components=2)), ('clf', knn)]\n",
    "# steps = [('scale', StandardScaler()), ('clf', knn)]\n",
    "\n",
    "pipe = Pipeline(steps)"
   ]
  },
  {
   "cell_type": "code",
   "execution_count": 88,
   "metadata": {},
   "outputs": [
    {
     "name": "stdout",
     "output_type": "stream",
     "text": [
      "[0.5937114  0.60366128 0.61397596]\n"
     ]
    },
    {
     "data": {
      "text/plain": [
       "Pipeline(memory=None,\n",
       "     steps=[('scale', MinMaxScaler(copy=True, feature_range=(0, 1))), ('pca', PCA(copy=True, iterated_power='auto', n_components=7, random_state=None,\n",
       "  svd_solver='auto', tol=0.0, whiten=False)), ('clf', KNeighborsClassifier(algorithm='auto', leaf_size=30, metric='minkowski',\n",
       "           metric_params=None, n_jobs=1, n_neighbors=5, p=2,\n",
       "           weights='uniform'))])"
      ]
     },
     "execution_count": 88,
     "metadata": {},
     "output_type": "execute_result"
    }
   ],
   "source": [
    "print(cross_val_score(pipe, X, y, cv=3))\n",
    "pipe.fit(X_test,y_test)"
   ]
  },
  {
   "cell_type": "code",
   "execution_count": 89,
   "metadata": {},
   "outputs": [
    {
     "name": "stdout",
     "output_type": "stream",
     "text": [
      "                 precision    recall  f1-score   support\n",
      "\n",
      "       Adoption       0.80      0.67      0.73      3973\n",
      "           Died       0.00      0.00      0.00         0\n",
      "     Euthanasia       0.31      0.51      0.38       295\n",
      "Return_to_owner       0.44      0.45      0.45      1363\n",
      "       Transfer       0.65      0.75      0.70      2382\n",
      "\n",
      "    avg / total       0.68      0.65      0.66      8013\n",
      "\n"
     ]
    },
    {
     "name": "stderr",
     "output_type": "stream",
     "text": [
      "C:\\ProgramData\\Anaconda3\\lib\\site-packages\\sklearn\\metrics\\classification.py:1137: UndefinedMetricWarning: Recall and F-score are ill-defined and being set to 0.0 in labels with no true samples.\n",
      "  'recall', 'true', average, warn_for)\n"
     ]
    }
   ],
   "source": [
    "print(classification_report(pipe.predict(X_test),y_test))"
   ]
  },
  {
   "cell_type": "markdown",
   "metadata": {},
   "source": [
    "KNN did not do a good enough job either of predicting the outcome"
   ]
  },
  {
   "cell_type": "markdown",
   "metadata": {},
   "source": [
    "#### Grid Search"
   ]
  },
  {
   "cell_type": "markdown",
   "metadata": {},
   "source": [
    "we will try to find the optimal hyper-parameters using grid search"
   ]
  },
  {
   "cell_type": "code",
   "execution_count": 92,
   "metadata": {},
   "outputs": [],
   "source": [
    "steps = [('scale', StandardScaler()), ('pca',PCA()), ('clf', neighbors.KNeighborsClassifier())]\n",
    "# steps = [('pca',PCA(n_components=2)), ('clf', knn)]\n",
    "# eps = [('scale', StandardScaler()), ('clf', knn)]\n",
    "\n",
    "pipe = Pipeline(steps)\n",
    "\n",
    "parameters = {\n",
    "    'pca__n_components': range (2, 10),\n",
    "    'clf__n_neighbors': range(5,306,50)}\n",
    "\n",
    "grid_search = GridSearchCV(pipe, parameters, cv=3)"
   ]
  },
  {
   "cell_type": "code",
   "execution_count": 93,
   "metadata": {},
   "outputs": [
    {
     "data": {
      "text/plain": [
       "GridSearchCV(cv=3, error_score='raise',\n",
       "       estimator=Pipeline(memory=None,\n",
       "     steps=[('scale', StandardScaler(copy=True, with_mean=True, with_std=True)), ('pca', PCA(copy=True, iterated_power='auto', n_components=None, random_state=None,\n",
       "  svd_solver='auto', tol=0.0, whiten=False)), ('clf', KNeighborsClassifier(algorithm='auto', leaf_size=30, metric='minkowski',\n",
       "           metric_params=None, n_jobs=1, n_neighbors=5, p=2,\n",
       "           weights='uniform'))]),\n",
       "       fit_params=None, iid=True, n_jobs=1,\n",
       "       param_grid={'pca__n_components': range(2, 10), 'clf__n_neighbors': range(5, 306, 50)},\n",
       "       pre_dispatch='2*n_jobs', refit=True, return_train_score='warn',\n",
       "       scoring=None, verbose=0)"
      ]
     },
     "execution_count": 93,
     "metadata": {},
     "output_type": "execute_result"
    }
   ],
   "source": [
    "grid_search.fit(X, y)"
   ]
  },
  {
   "cell_type": "code",
   "execution_count": 94,
   "metadata": {},
   "outputs": [
    {
     "data": {
      "text/plain": [
       "0.6389367278172969"
      ]
     },
     "execution_count": 94,
     "metadata": {},
     "output_type": "execute_result"
    }
   ],
   "source": [
    "grid_search.best_score_"
   ]
  },
  {
   "cell_type": "code",
   "execution_count": 95,
   "metadata": {},
   "outputs": [
    {
     "data": {
      "text/plain": [
       "{'clf__n_neighbors': 55, 'pca__n_components': 8}"
      ]
     },
     "execution_count": 95,
     "metadata": {},
     "output_type": "execute_result"
    }
   ],
   "source": [
    "grid_search.best_params_"
   ]
  },
  {
   "cell_type": "markdown",
   "metadata": {},
   "source": [
    "### Apply Bagging"
   ]
  },
  {
   "cell_type": "code",
   "execution_count": 96,
   "metadata": {},
   "outputs": [],
   "source": [
    "clf_bagging = BaggingClassifier(base_estimator=knn, n_estimators=100) "
   ]
  },
  {
   "cell_type": "code",
   "execution_count": 97,
   "metadata": {},
   "outputs": [
    {
     "data": {
      "text/plain": [
       "BaggingClassifier(base_estimator=KNeighborsClassifier(algorithm='auto', leaf_size=30, metric='minkowski',\n",
       "           metric_params=None, n_jobs=1, n_neighbors=5, p=2,\n",
       "           weights='uniform'),\n",
       "         bootstrap=True, bootstrap_features=False, max_features=1.0,\n",
       "         max_samples=1.0, n_estimators=100, n_jobs=1, oob_score=False,\n",
       "         random_state=None, verbose=0, warm_start=False)"
      ]
     },
     "execution_count": 97,
     "metadata": {},
     "output_type": "execute_result"
    }
   ],
   "source": [
    "clf_bagging.fit(X,y)"
   ]
  },
  {
   "cell_type": "code",
   "execution_count": 98,
   "metadata": {},
   "outputs": [
    {
     "data": {
      "text/plain": [
       "0.6590789966304754"
      ]
     },
     "execution_count": 98,
     "metadata": {},
     "output_type": "execute_result"
    }
   ],
   "source": [
    "clf_bagging.score(X,y)"
   ]
  },
  {
   "cell_type": "markdown",
   "metadata": {},
   "source": [
    "Bagging did not help either in improving the outcome. Not sure it's effective with KNN, since it is unsupervised and does not try to learn the mechanism behind the data."
   ]
  },
  {
   "cell_type": "markdown",
   "metadata": {},
   "source": [
    "### Apply AdaBoost"
   ]
  },
  {
   "cell_type": "markdown",
   "metadata": {},
   "source": [
    "#### no good with SVC"
   ]
  },
  {
   "cell_type": "markdown",
   "metadata": {},
   "source": [
    "We will skip trying to use adaptive learning because the running times were extremely long with SVC and did not show signs of improving the outcome prediction."
   ]
  },
  {
   "cell_type": "code",
   "execution_count": null,
   "metadata": {},
   "outputs": [],
   "source": [
    "# svc_clf = SVC(kernel='rbf', probability=True)"
   ]
  },
  {
   "cell_type": "code",
   "execution_count": null,
   "metadata": {},
   "outputs": [],
   "source": [
    "# clf_adaboost = AdaBoostClassifier(base_estimator=svc_clf,\n",
    "  #                                n_estimators=200,\n",
    "  #                                learning_rate=0.02)\n",
    "# clf_adaboost.fit(X, y)"
   ]
  },
  {
   "cell_type": "code",
   "execution_count": null,
   "metadata": {},
   "outputs": [],
   "source": [
    "# clf_adaboost.fit(X,y)"
   ]
  },
  {
   "cell_type": "markdown",
   "metadata": {},
   "source": [
    "### Part 1 conclusions"
   ]
  },
  {
   "cell_type": "markdown",
   "metadata": {},
   "source": [
    "Both SVC and KNN did not do very well in predicting the outcome using the 'binary' features. While Death and Euthanasia have a low value count, that may help explain the poor predictions, other outcomes cannot be explained in the same way.\n",
    "Seems like the features and algorithms chosen are not good enough in order to make a good prediction."
   ]
  },
  {
   "cell_type": "markdown",
   "metadata": {},
   "source": [
    "\n",
    "## Analysis plan\n",
    "### Preprocessing\n",
    "We will start by splitting the data into cats and dogs. As we saw in the investigation phase that intactness was a major indicator for transfer/adoption and HasName was a major indicator for return to owner so we are going to separate the data into 9 parts and try to model each separately:\n",
    "[Dog,Cat]x[Intact,Neutered]x[Name, NoName] as well as a combined dataset Intact=='Unknown'\n",
    "\n",
    "### Feature selection\n",
    "Age will be handled in days. \n",
    "In addition we will add a calculated feature AgeCategory= [pup (0-2mo),young (2-24mo),adult(24-96mo),senior (96+ mo)]\n",
    "Color - we will create dummy variables for the colors and will mark them using color1 and color2 (allowing multiple colors to have a value of 1)\n",
    "Breed - we will create dummy variables for the breeds and will mark them using breed1, breed2, breed3 (allowing multiple breeds to have a value of 1)\n",
    "In addition we will use the calculated features PureBreed and SingleColor as defined in the investigation phase\n",
    "\n",
    "\n",
    "We will attempt to identify variables that are not in use using DecisionTree and RandomForrest to check feature importance.\n",
    "Afterwards we will scale the data using MinMaxScaler and do PCA analysis \n",
    "\n",
    "### Model\n",
    "For the model we will do  GridSearch for KNN (n_neighbors),RandomForest(max_depth), LogisticRegression (C) \n",
    "We will then create a voting ensemble with the best parameters from each category, and check for 2nd degree interactions.\n"
   ]
  },
  {
   "cell_type": "code",
   "execution_count": 15,
   "metadata": {},
   "outputs": [],
   "source": [
    "import numpy as np\n",
    "import pandas as pd\n",
    "from pandas.api.types import CategoricalDtype\n",
    "import matplotlib.pyplot as plt\n",
    "from time import time\n",
    "from os import getcwd\n",
    "\n",
    "from sklearn.tree import DecisionTreeClassifier\n",
    "from sklearn.linear_model import LogisticRegression\n",
    "from sklearn.preprocessing import StandardScaler, MaxAbsScaler, MinMaxScaler,PolynomialFeatures,LabelEncoder, OneHotEncoder\n",
    "from sklearn.decomposition import PCA\n",
    "from sklearn import neighbors, linear_model\n",
    "from sklearn.metrics import classification_report, accuracy_score\n",
    "from sklearn.svm import SVC,LinearSVC\n",
    "from sklearn.model_selection import train_test_split, cross_val_score, GridSearchCV\n",
    "from sklearn.pipeline import Pipeline\n",
    "from pandas.plotting import scatter_matrix\n",
    "from sklearn.ensemble import RandomForestClassifier, VotingClassifier, BaggingClassifier, AdaBoostClassifier, GradientBoostingClassifier\n",
    "from sklearn.feature_selection import VarianceThreshold\n",
    "import warnings\n",
    "warnings.filterwarnings(\"ignore\")"
   ]
  },
  {
   "cell_type": "markdown",
   "metadata": {},
   "source": [
    "## Helper Methods"
   ]
  },
  {
   "cell_type": "code",
   "execution_count": 17,
   "metadata": {},
   "outputs": [],
   "source": [
    "def get_all_dummies(data):\n",
    "    colors_df1 = data[['Color1']].dropna()\n",
    "    colors_df2 = data[['Color2']].dropna() \n",
    "    colors_df = pd.concat([colors_df1.rename({'Color1':'Color'}, axis=1),\n",
    "                           colors_df2.rename({'Color2':'Color'}, axis=1)])\n",
    "    colors_df.index.name = 'row'\n",
    "    colors_df['Color'] = colors_df.Color.str.replace(' ','_')\n",
    "    color_dummies = pd.get_dummies(colors_df).groupby('row').sum()\n",
    "\n",
    "    breed_df1 =  data[['Breed1']].dropna()\n",
    "    breed_df2 =  data[['Breed2']].dropna()\n",
    "    breed_df3 =  data[['Breed3']].dropna()\n",
    "    breeds =  pd.concat([breed_df1.rename({'Breed1':'Breed'}, axis=1),\n",
    "                         breed_df2.rename({'Breed2':'Breed'}, axis=1),\n",
    "                         breed_df3.rename({'Breed3':'Breed'}, axis=1),\n",
    "                        ])\n",
    "    breeds.index.name = 'row'\n",
    "    breeds['Breed'] = breeds.Breed.str.replace(' ','_')\n",
    "    breed_dummies = pd.get_dummies(breeds).groupby('row').sum()\n",
    "    \n",
    "    features = ['Sex', 'Purebreed', 'SingleColor', 'Age', 'AgeCategory']\n",
    "    other_dummies = pd.get_dummies(data[features])\n",
    "    return pd.concat([other_dummies,color_dummies,breed_dummies], axis=1, join='inner')\n",
    "\n",
    "# We want to convert the AgeuponOutcome column to a standard value in days\n",
    "def ConvertToDays(age):\n",
    "    if age==None: return None\n",
    "    if(' ' not in str(age)): return None\n",
    "    value,unit = str(age).split()\n",
    "    if 'year' in unit: return 365*int(value)\n",
    "    if 'month' in unit: return 30*int(value)\n",
    "    if 'week' in unit: return 7*int(value)\n",
    "    if 'day' in unit:return int(value)\n",
    "    return None\n",
    "\n",
    "def GetAgeCategory(age_days):\n",
    "    if(age_days==None):return None\n",
    "    if(age_days <= 60): return 'Pup'\n",
    "    if(age_days <= 730): return 'Young'\n",
    "    if(age_days <= 2920): return 'Adult'\n",
    "    return 'Senior'\n",
    "\n",
    "def TestModel(model, X_train,y_train,X_test,y_test):\n",
    "    train_accuracy = accuracy_score(y_pred=model.predict(X_train),y_true=y_train)\n",
    "    test_accuracy = accuracy_score(y_pred=model.predict(X_test),y_true=y_test)\n",
    "    print('train :',train_accuracy )\n",
    "    print('test :', test_accuracy )\n",
    "    if(hasattr(model,'best_params_') and hasattr(model,'best_score_')):\n",
    "        print(model.best_params_,model.best_score_)\n",
    "    return (train_accuracy, test_accuracy)\n",
    "\n",
    "def ScrapeData(file):\n",
    "    data = pd.read_csv(file)\n",
    "\n",
    "    data['HasName'] = (data.Name.str.len() > 0)\n",
    "\n",
    "    data[['Intact','Sex']] = data.SexuponOutcome.str.split(expand=True)\n",
    "    data['Intact'] = pd.Series(np.where(data.Intact.isin(['Spayed']), 'Neutered', data.Intact))\n",
    "\n",
    "\n",
    "    data[['Breed1','Breed2','Breed3']] = data.Breed.str.split('/',expand=True)\n",
    "\n",
    "    data[['Color1','Color2']] = data.Color.str.split('/',expand=True)\n",
    "\n",
    "    data['Purebreed'] = (~(data.Breed1.str.contains('Mix')) & data.Breed2.isna()).astype(int)\n",
    "    data['SingleColor'] = data.Color2.isna().astype(int)\n",
    "\n",
    "    data['Age'] = data.AgeuponOutcome.apply(ConvertToDays)\n",
    "    data= data[data.Age >=0]\n",
    "    data['AgeCategory'] = data.Age.apply(GetAgeCategory)\n",
    "   \n",
    "    return data\n",
    "    "
   ]
  },
  {
   "cell_type": "markdown",
   "metadata": {},
   "source": [
    "## Preprocessing"
   ]
  },
  {
   "cell_type": "code",
   "execution_count": 18,
   "metadata": {},
   "outputs": [
    {
     "name": "stdout",
     "output_type": "stream",
     "text": [
      "AgeCategory  OutcomeType      OutcomeType    \n",
      "Adult        Adoption         Adoption           1764\n",
      "             Died             Died                 15\n",
      "             Euthanasia       Euthanasia          458\n",
      "             Return_to_owner  Return_to_owner    2003\n",
      "             Transfer         Transfer           1383\n",
      "Pup          Adoption         Adoption           3080\n",
      "             Died             Died                118\n",
      "             Euthanasia       Euthanasia          248\n",
      "             Return_to_owner  Return_to_owner     106\n",
      "             Transfer         Transfer           3396\n",
      "Senior       Adoption         Adoption            323\n",
      "             Died             Died                 13\n",
      "             Euthanasia       Euthanasia          265\n",
      "             Return_to_owner  Return_to_owner     621\n",
      "             Transfer         Transfer            265\n",
      "Young        Adoption         Adoption           5602\n",
      "             Died             Died                 51\n",
      "             Euthanasia       Euthanasia          582\n",
      "             Return_to_owner  Return_to_owner    2056\n",
      "             Transfer         Transfer           4362\n",
      "Name: OutcomeType, dtype: int64\n"
     ]
    }
   ],
   "source": [
    "file = 'train.csv'\n",
    "data = ScrapeData(file)\n",
    "print(data.groupby(['AgeCategory','OutcomeType'])['OutcomeType'].value_counts())"
   ]
  },
  {
   "cell_type": "markdown",
   "metadata": {},
   "source": [
    "### Split data"
   ]
  },
  {
   "cell_type": "code",
   "execution_count": 19,
   "metadata": {},
   "outputs": [],
   "source": [
    "dogs_intact_named= data[(data.AnimalType == 'Dog') & (data.Intact == 'Intact') & (data.HasName==True)]\n",
    "dogs_intact_unnamed= data[(data.AnimalType == 'Dog') & (data.Intact == 'Intact') & (data.HasName==False)]\n",
    "dogs_neutered_named= data[(data.AnimalType == 'Dog') & (data.Intact == 'Neutered') & (data.HasName==True)]\n",
    "dogs_neutered_unnamed= data[(data.AnimalType == 'Dog') & (data.Intact == 'Neutered') & (data.HasName==False)]\n",
    "\n",
    "cats_intact_named= data[(data.AnimalType == 'Cat') & (data.Intact == 'Intact') & (data.HasName==True)]\n",
    "cats_intact_unnamed= data[(data.AnimalType == 'Cat') & (data.Intact == 'Intact') & (data.HasName==False)]\n",
    "cats_spayed_named= data[(data.AnimalType == 'Cat') & (data.Intact == 'Neutered') & (data.HasName==True)]\n",
    "cats_spayed_unnamed= data[(data.AnimalType == 'Cat') & (data.Intact == 'Neutered') & (data.HasName==False)]\n",
    "\n",
    "unknown = data[(data.Intact == 'Unknown')]\n",
    "\n"
   ]
  },
  {
   "cell_type": "markdown",
   "metadata": {},
   "source": [
    "## Model\n",
    "### Unknown"
   ]
  },
  {
   "cell_type": "code",
   "execution_count": 21,
   "metadata": {},
   "outputs": [
    {
     "name": "stdout",
     "output_type": "stream",
     "text": [
      "train : 0.8858267716535433\n",
      "test : 0.8715596330275229\n",
      "{'max_depth': 3} 0.8792650918635171\n",
      "train : 0.9015748031496063\n",
      "test : 0.8960244648318043\n",
      "{'max_depth': 6} 0.8832020997375328\n",
      "train : 0.8832020997375328\n",
      "test : 0.8776758409785933\n",
      "{'model__C': 0.1} 0.8818897637795275\n",
      "train : 0.8832020997375328\n",
      "test : 0.8776758409785933\n",
      "{'C': 0.1} 0.8832020997375328\n",
      "train : 0.8937007874015748\n",
      "test : 0.8837920489296636\n",
      "{'model__n_neighbors': 10} 0.8871391076115486\n"
     ]
    }
   ],
   "source": [
    "X = pd.get_dummies(unknown[['Age', 'AnimalType','HasName']],columns=['AnimalType','HasName'])\n",
    "y = unknown.OutcomeType\n",
    "\n",
    "\n",
    "X_train, X_test,y_train,y_test = train_test_split(X,y,train_size=0.7)\n",
    "\n",
    "weights = {'Died':0,'Euthanasia':1,'Transfer':1,'Return_to_owner':5}\n",
    "grid_search_dtc = GridSearchCV(DecisionTreeClassifier(class_weight=weights), {'max_depth':range(1,10)}, cv=5)\n",
    "grid_search_dtc.fit(X_train,y_train)\n",
    "accuracy = TestModel(grid_search_dtc,X_train,y_train,X_test,y_test)\n",
    "\n",
    "grid_search_rf = GridSearchCV(RandomForestClassifier(class_weight=weights), {'max_depth':range(1,10)}, cv=5)\n",
    "grid_search_rf.fit(X_train,y_train)\n",
    "accuracy = TestModel(grid_search_rf,X_train,y_train,X_test,y_test)\n",
    "\n",
    "pipe_slr= Pipeline([('scaler',StandardScaler()),('model',LogisticRegression())])\n",
    "grid_search_slr = GridSearchCV(pipe_slr, {'model__C':[0.1,0.5,1,5,10,50,100]}, cv=5)\n",
    "grid_search_slr.fit(X_train,y_train)\n",
    "accuracy = TestModel(grid_search_slr,X_train,y_train,X_test,y_test)\n",
    "\n",
    "grid_search_lr = GridSearchCV(LogisticRegression(), {'C':[0.1,0.5,1,5,10,50,100]}, cv=5)\n",
    "grid_search_lr.fit(X_train,y_train)\n",
    "accuracy = TestModel(grid_search_lr,X_train,y_train,X_test,y_test)\n",
    "\n",
    "pipe_knn= Pipeline([('scaler',StandardScaler()),('model',neighbors.KNeighborsClassifier())])\n",
    "grid_search_knn = GridSearchCV(pipe_knn, {'model__n_neighbors':range(5,50,5)}, cv=5)\n",
    "grid_search_knn.fit(X_train,y_train)\n",
    "accuracy = TestModel(grid_search_knn,X_train,y_train,X_test,y_test)\n",
    "\n",
    "# running several times shows that the most stable model is the LR wih C=0.1"
   ]
  },
  {
   "cell_type": "code",
   "execution_count": 22,
   "metadata": {},
   "outputs": [
    {
     "name": "stdout",
     "output_type": "stream",
     "text": [
      "train : 0.8963254593175853\n",
      "test : 0.8837920489296636\n"
     ]
    }
   ],
   "source": [
    "#check if voting improves result  \n",
    "#class weights were causing a problem because they were not always present (which makes no sense because they are present)\n",
    "grid_search_rf.best_estimator_.class_weight = None \n",
    "classifiers = [grid_search_knn.best_estimator_,grid_search_slr.best_estimator_,grid_search_rf.best_estimator_]\n",
    "classifier_names = ['knn','scaled_lr','rf']\n",
    "vc = VotingClassifier(estimators=list(zip(classifier_names,classifiers)),voting='soft')\n",
    "vc.fit(X_train,y_train)\n",
    "accuracy = TestModel(vc,X_train,y_train,X_test,y_test)\n",
    "\n",
    "#voting doesn't significantly improve accuracy"
   ]
  },
  {
   "cell_type": "markdown",
   "metadata": {},
   "source": [
    "### building the model (using dogs_intact_named)"
   ]
  },
  {
   "cell_type": "code",
   "execution_count": 24,
   "metadata": {},
   "outputs": [
    {
     "data": {
      "text/plain": [
       "(1333, 250)"
      ]
     },
     "execution_count": 24,
     "metadata": {},
     "output_type": "execute_result"
    }
   ],
   "source": [
    "X = get_all_dummies(dogs_intact_named)\n",
    "y = dogs_intact_named.OutcomeType\n",
    "\n",
    "X_train, X_test,y_train,y_test = train_test_split(X,y,train_size=0.7,random_state=3475)\n",
    "X_train.shape"
   ]
  },
  {
   "cell_type": "code",
   "execution_count": 10,
   "metadata": {},
   "outputs": [
    {
     "name": "stdout",
     "output_type": "stream",
     "text": [
      "train : 0.477119279819955\n",
      "test : 0.3741258741258741\n",
      "{'max_depth': 9, 'min_samples_leaf': 1} 0.40585146286571644\n",
      "train : 0.568642160540135\n",
      "test : 0.5367132867132867\n",
      "{'max_depth': 6, 'min_samples_leaf': 9} 0.5296324081020255\n"
     ]
    }
   ],
   "source": [
    "#Decison tree classifier baseline\n",
    "#Check using balanced class weights and no weights\n",
    "#Run grid search to find optimal depth, minimum samples per leaf\n",
    "for class_weight in ['balanced',None]:\n",
    "    dtc = DecisionTreeClassifier(class_weight=class_weight)\n",
    "    grid_search_dtc = GridSearchCV(dtc, {'max_depth':range(1,10), 'min_samples_leaf':range(1,10,2)}, cv=5)\n",
    "    grid_search_dtc.fit(X_train,y_train)\n",
    "    accuracy = TestModel(grid_search_dtc,X_train,y_train,X_test,y_test)\n",
    "   "
   ]
  },
  {
   "cell_type": "code",
   "execution_count": 11,
   "metadata": {},
   "outputs": [
    {
     "name": "stdout",
     "output_type": "stream",
     "text": [
      "train : 0.5468867216804201\n",
      "test : 0.5122377622377622\n",
      "{'max_depth': 5, 'min_samples_leaf': 4} 0.5318829707426856\n"
     ]
    },
    {
     "data": {
      "text/plain": [
       "(0.5468867216804201, 0.5122377622377622)"
      ]
     },
     "execution_count": 11,
     "metadata": {},
     "output_type": "execute_result"
    }
   ],
   "source": [
    "#Random forest classifier baseline\n",
    "#Run grid search to find optimal depth, minimum samples per leaf\n",
    "#Max depth limited to 6 to prevent overfit\n",
    "\n",
    "rfc = RandomForestClassifier()\n",
    "grid_search_rfc = GridSearchCV(rfc, {'max_depth':range(1,7), 'min_samples_leaf':range(2,10,2)}, cv=5)\n",
    "grid_search_rfc.fit(X_train,y_train)\n",
    "accuracy = TestModel(grid_search_rfc,X_train,y_train,X_test,y_test)\n",
    "\n"
   ]
  },
  {
   "cell_type": "code",
   "execution_count": 12,
   "metadata": {},
   "outputs": [
    {
     "name": "stdout",
     "output_type": "stream",
     "text": [
      "train : 0.6084021005251313\n",
      "test : 0.5594405594405595\n",
      "{'C': 0.5} 0.5581395348837209\n",
      "train : 0.5701425356339085\n",
      "test : 0.541958041958042\n",
      "{'C': 1} 0.5446361590397599\n",
      "train : 0.5221305326331583\n",
      "test : 0.5034965034965035\n",
      "{'C': 0.5} 0.5258814703675919\n",
      "train : 0.5183795948987246\n",
      "test : 0.5017482517482518\n",
      "{'C': 0.1} 0.5176294073518379\n"
     ]
    }
   ],
   "source": [
    "#check Logistic regression using best features from rf importance \n",
    "#(with different thresholds for which features are used)\n",
    "imps = list(zip(grid_search_rfc.best_estimator_.feature_importances_ ,X.columns))\n",
    "sorted_imps = sorted(imps,key=lambda x:x[0],reverse=True)\n",
    "\n",
    "for imp_threshold in np.linspace(-0.05,0.1,4):\n",
    "    best_features = [imp[1] for imp in sorted_imps if imp[0]>imp_threshold]\n",
    "    grid_search_lr = GridSearchCV(LogisticRegression(), {'C':[0.1,0.5,1,5,10,50,100]}, cv=5)\n",
    "    grid_search_lr.fit(X_train[best_features],y_train)\n",
    "    accuracy = TestModel(grid_search_lr,X_train[best_features],y_train,X_test[best_features],y_test)\n",
    "    \n",
    "# best result is with all features"
   ]
  },
  {
   "cell_type": "code",
   "execution_count": 25,
   "metadata": {},
   "outputs": [
    {
     "name": "stdout",
     "output_type": "stream",
     "text": [
      "train : 0.568642160540135\n",
      "test : 0.5192307692307693\n",
      "{'model__C': 0.1, 'pca__n_components': 50} 0.5378844711177795\n"
     ]
    }
   ],
   "source": [
    "#check Logistic regression using scaling and PCA\n",
    "\n",
    "\n",
    "pipe = Pipeline([('scaler',StandardScaler()),('pca',PCA()),('model',LogisticRegression())])\n",
    "params = {'model__C':[0.1,0.5,1,5,10,50,100],\n",
    "          'pca__n_components':[1,5,20,50,100]}\n",
    "grid_search_slr = GridSearchCV(pipe,params, cv=5)\n",
    "grid_search_slr.fit(X_train,y_train)\n",
    "accuracy = TestModel(grid_search_slr,X_train,y_train,X_test,y_test)\n",
    "    \n",
    "# no improvement when using PCA"
   ]
  },
  {
   "cell_type": "code",
   "execution_count": 26,
   "metadata": {},
   "outputs": [
    {
     "name": "stdout",
     "output_type": "stream",
     "text": [
      "train : 0.5656414103525882\n",
      "test : 0.5192307692307693\n",
      "{'model__n_neighbors': 30} 0.5221305326331583\n"
     ]
    }
   ],
   "source": [
    "#check KNN, gridsearch on n_neighbors\n",
    "pipe_knn= Pipeline([('scaler',StandardScaler()),('model',neighbors.KNeighborsClassifier())])\n",
    "grid_search_knn = GridSearchCV(pipe_knn, {'model__n_neighbors':range(5,50,5)}, cv=5)\n",
    "grid_search_knn.fit(X_train,y_train)\n",
    "accuracy = TestModel(grid_search_knn,X_train,y_train,X_test,y_test)"
   ]
  },
  {
   "cell_type": "code",
   "execution_count": 27,
   "metadata": {},
   "outputs": [
    {
     "name": "stdout",
     "output_type": "stream",
     "text": [
      "train : 0.5963990997749438\n",
      "test : 0.5594405594405595\n"
     ]
    }
   ],
   "source": [
    "#check if voting improves result  \n",
    "knn = Pipeline([('scaler',StandardScaler()),('model',neighbors.KNeighborsClassifier(n_neighbors=30))])\n",
    "lr = LogisticRegression(C=0.5)\n",
    "rf = RandomForestClassifier(max_depth=6,min_samples_leaf=8)\n",
    "classifiers = [knn,lr,rf]\n",
    "classifier_names = ['knn','lr','rf']\n",
    "vc = VotingClassifier(estimators=list(zip(classifier_names,classifiers)),voting='soft')\n",
    "vc.fit(X_train,y_train)\n",
    "accuracy = TestModel(vc,X_train,y_train,X_test,y_test)\n",
    "\n",
    "#No improvement over logistic regression C=0.5"
   ]
  },
  {
   "cell_type": "code",
   "execution_count": 28,
   "metadata": {},
   "outputs": [
    {
     "name": "stdout",
     "output_type": "stream",
     "text": [
      "train : 0.6046511627906976\n",
      "test : 0.5611888111888111\n"
     ]
    }
   ],
   "source": [
    "#Check for interaction\n",
    "pipe = Pipeline([('scale',MinMaxScaler()),('inter',PolynomialFeatures(interaction_only=True)), ('var',VarianceThreshold(0.01)),('model',LogisticRegression(C=0.5))])\n",
    "pipe.fit(X_train,y_train)\n",
    "accuracy = TestModel(pipe,X_train,y_train,X_test,y_test)"
   ]
  },
  {
   "cell_type": "markdown",
   "metadata": {},
   "source": [
    "### Model Checking Algorithm\n",
    "After tweaking the cells above to get best performance I will wrap them in methods so I can run it on each of the 8 split parts."
   ]
  },
  {
   "cell_type": "code",
   "execution_count": 29,
   "metadata": {},
   "outputs": [],
   "source": [
    "def Check_Dtc(X_train, X_test,y_train,y_test):\n",
    "    print('\\nChecking DecisionTreeClassifier')\n",
    "    scores = []\n",
    "    for class_weight in ['balanced',None]:\n",
    "        print('class_weight=',class_weight)\n",
    "        dtc = DecisionTreeClassifier(class_weight=class_weight)\n",
    "        grid_search_dtc = GridSearchCV(dtc, {'max_depth':range(1,10), 'min_samples_leaf':range(1,10,2)}, cv=5)\n",
    "        grid_search_dtc.fit(X_train,y_train)\n",
    "        accuracy = TestModel(grid_search_dtc,X_train,y_train,X_test,y_test)\n",
    "        scores.append((grid_search_dtc.best_estimator_, accuracy[1]))\n",
    "    \n",
    "    return max(scores,key=lambda pair:pair[1])[0]\n",
    "    \n",
    "def Check_RandomForest(X_train, X_test,y_train,y_test):\n",
    "    print('\\nChecking RandomForest')\n",
    "    rfc = RandomForestClassifier()\n",
    "    grid_search_rfc = GridSearchCV(rfc, {'max_depth':range(1,7), 'min_samples_leaf':range(2,10,2)}, cv=5)\n",
    "    grid_search_rfc.fit(X_train,y_train)\n",
    "    TestModel(grid_search_rfc,X_train,y_train,X_test,y_test)\n",
    "    importances = list(zip(grid_search_rfc.best_estimator_.feature_importances_ ,X.columns))\n",
    "    sorted_imps = sorted(importances,key=lambda x:x[0],reverse=True)\n",
    "    return  (grid_search_rfc.best_estimator_,sorted_imps)\n",
    "    \n",
    "def Check_LogisticRegression(X_train, X_test,y_train,y_test,importances):\n",
    "    scores = []\n",
    "    print('\\nChecking LogisticRegression')\n",
    "    for imp_threshold in np.linspace(-0.05,0.1,4):\n",
    "        best_features = [imp[1] for imp in importances if imp[0]>imp_threshold]\n",
    "        print(f'Using {len(best_features)} features')\n",
    "        grid_search_lr = GridSearchCV(LogisticRegression(), {'C':[0.1,0.5,1,5,10,50,100]}, cv=5)\n",
    "        grid_search_lr.fit(X_train[best_features],y_train)\n",
    "        accuracy = TestModel(grid_search_lr,X_train[best_features],y_train,X_test[best_features],y_test)\n",
    "        scores.append((grid_search_lr.best_estimator_, accuracy[1]))\n",
    "    \n",
    "    return max(scores,key=lambda pair:pair[1])[0]\n",
    "        \n",
    "\n",
    "def Check_LogisiticRegressionPCA(X_train, X_test,y_train,y_test):\n",
    "    print('\\nChecking LogisiticRegression with PCA')\n",
    "    pipe = Pipeline([('scaler',StandardScaler()),('pca',PCA()),('model',LogisticRegression())])\n",
    "    params = {'model__C':[0.1,0.5,1,5,10,50,100],\n",
    "              'pca__n_components':[1,5,20,50]}\n",
    "    grid_search_slr = GridSearchCV(pipe,params, cv=5)\n",
    "    grid_search_slr.fit(X_train,y_train)\n",
    "    TestModel(grid_search_slr,X_train,y_train,X_test,y_test)\n",
    "    return grid_search_slr.best_estimator_\n",
    "    \n",
    "def Check_Knn(X_train, X_test,y_train,y_test):\n",
    "    print('\\nChecking KNN')\n",
    "    pipe_knn= Pipeline([('scaler',StandardScaler()),('model',neighbors.KNeighborsClassifier())])\n",
    "    grid_search_knn = GridSearchCV(pipe_knn, {'model__n_neighbors':range(5,50,5)}, cv=5)\n",
    "    grid_search_knn.fit(X_train,y_train)\n",
    "    TestModel(grid_search_knn,X_train,y_train,X_test,y_test)\n",
    "    return grid_search_knn.best_estimator_\n",
    "\n",
    "def Check_Voting(X_train, X_test,y_train,y_test,estimators):\n",
    "    print('\\nChecking Voting')\n",
    "    vc = VotingClassifier(estimators=estimators,voting='soft')\n",
    "    vc.fit(X_train,y_train)\n",
    "    TestModel(vc,X_train,y_train,X_test,y_test)\n",
    "    return vc\n",
    "    \n",
    "def Check_Interactions(X_train, X_test,y_train,y_test):\n",
    "    print('\\nChecking Interactions')\n",
    "    pipe = Pipeline([('scale',MinMaxScaler()),('inter',PolynomialFeatures(interaction_only=True)), ('var',VarianceThreshold(0.01)),('model',LogisticRegression(C=0.5))])\n",
    "    pipe.fit(X_train,y_train)\n",
    "    TestModel(pipe,X_train,y_train,X_test,y_test)\n",
    "    return pipe\n",
    "\n",
    "def Check_All(X_train, X_test,y_train,y_test):\n",
    "    dtc = Check_Dtc(X_train, X_test,y_train,y_test)\n",
    "    rf,importances = Check_RandomForest(X_train, X_test,y_train,y_test)\n",
    "    lr = Check_LogisticRegression(X_train, X_test,y_train,y_test,importances)\n",
    "    lr_pca = Check_LogisiticRegressionPCA(X_train, X_test,y_train,y_test)\n",
    "    knn = Check_Knn(X_train, X_test,y_train,y_test)\n",
    "    estimators = [('knn',knn),('rf',rf),('lr',lr)]\n",
    "    vc = Check_Voting(X_train, X_test,y_train,y_test,estimators)\n",
    "    inter = Check_Interactions(X_train, X_test,y_train,y_test)\n",
    "    return {'dtc':dtc,'rf':rf,'lr':lr,'lr_pca':lr_pca,'knn':knn,'vc':vc,'inter':inter}"
   ]
  },
  {
   "cell_type": "markdown",
   "metadata": {},
   "source": [
    "### dogs_intact_named"
   ]
  },
  {
   "cell_type": "code",
   "execution_count": 30,
   "metadata": {},
   "outputs": [
    {
     "name": "stdout",
     "output_type": "stream",
     "text": [
      "(1333, 250)\n",
      "\n",
      "Checking DecisionTreeClassifier\n",
      "class_weight= balanced\n",
      "train : 0.477119279819955\n",
      "test : 0.3758741258741259\n",
      "{'max_depth': 9, 'min_samples_leaf': 1} 0.4081020255063766\n",
      "class_weight= None\n",
      "train : 0.568642160540135\n",
      "test : 0.5367132867132867\n",
      "{'max_depth': 6, 'min_samples_leaf': 9} 0.5296324081020255\n",
      "\n",
      "Checking RandomForest\n",
      "train : 0.5401350337584396\n",
      "test : 0.5262237762237763\n",
      "{'max_depth': 5, 'min_samples_leaf': 2} 0.5303825956489122\n",
      "\n",
      "Checking LogisticRegression\n",
      "Using 250 features\n",
      "train : 0.6084021005251313\n",
      "test : 0.5594405594405595\n",
      "{'C': 0.5} 0.5588897224306076\n",
      "Using 53 features\n",
      "train : 0.5716429107276819\n",
      "test : 0.5437062937062938\n",
      "{'C': 0.5} 0.5528882220555139\n",
      "Using 6 features\n",
      "train : 0.5333833458364591\n",
      "test : 0.541958041958042\n",
      "{'C': 1} 0.5311327831957989\n",
      "Using 2 features\n",
      "train : 0.5183795948987246\n",
      "test : 0.4982517482517482\n",
      "{'C': 0.1} 0.5198799699924981\n",
      "\n",
      "Checking LogisiticRegression with PCA\n",
      "train : 0.5753938484621155\n",
      "test : 0.5297202797202797\n",
      "{'model__C': 5, 'pca__n_components': 50} 0.5431357839459865\n",
      "\n",
      "Checking KNN\n",
      "train : 0.5656414103525882\n",
      "test : 0.5192307692307693\n",
      "{'model__n_neighbors': 30} 0.5221305326331583\n",
      "\n",
      "Checking Voting\n",
      "train : 0.6024006001500375\n",
      "test : 0.5472027972027972\n",
      "\n",
      "Checking Interactions\n",
      "train : 0.6046511627906976\n",
      "test : 0.5611888111888111\n"
     ]
    }
   ],
   "source": [
    "X = get_all_dummies(dogs_intact_named)\n",
    "y = dogs_intact_named.OutcomeType\n",
    "\n",
    "X_train, X_test,y_train,y_test = train_test_split(X,y,train_size=0.7,random_state=3475)\n",
    "print(X_train.shape)\n",
    "classifiers = Check_All(X_train, X_test,y_train,y_test)"
   ]
  },
  {
   "cell_type": "markdown",
   "metadata": {},
   "source": [
    "### dogs_intact_unnamed"
   ]
  },
  {
   "cell_type": "code",
   "execution_count": 31,
   "metadata": {},
   "outputs": [
    {
     "name": "stdout",
     "output_type": "stream",
     "text": [
      "(762, 174)\n",
      "\n",
      "Checking DecisionTreeClassifier\n",
      "class_weight= balanced\n",
      "train : 0.6167979002624672\n",
      "test : 0.5412844036697247\n",
      "{'max_depth': 8, 'min_samples_leaf': 1} 0.5997375328083989\n",
      "class_weight= None\n",
      "train : 0.7664041994750657\n",
      "test : 0.7553516819571865\n",
      "{'max_depth': 4, 'min_samples_leaf': 7} 0.7532808398950132\n",
      "\n",
      "Checking RandomForest\n",
      "train : 0.7283464566929134\n",
      "test : 0.72782874617737\n",
      "{'max_depth': 6, 'min_samples_leaf': 2} 0.7230971128608924\n",
      "\n",
      "Checking LogisticRegression\n",
      "Using 174 features\n",
      "train : 0.7716535433070866\n",
      "test : 0.7308868501529052\n",
      "{'C': 0.5} 0.7414698162729659\n",
      "Using 53 features\n",
      "train : 0.7664041994750657\n",
      "test : 0.7370030581039755\n",
      "{'C': 0.5} 0.7467191601049868\n",
      "Using 5 features\n",
      "train : 0.7454068241469817\n",
      "test : 0.7431192660550459\n",
      "{'C': 0.5} 0.7388451443569554\n",
      "Using 2 features\n",
      "train : 0.7322834645669292\n",
      "test : 0.72782874617737\n",
      "{'C': 0.1} 0.7322834645669292\n",
      "\n",
      "Checking LogisiticRegression with PCA\n",
      "train : 0.7362204724409449\n",
      "test : 0.7155963302752294\n",
      "{'model__C': 0.1, 'pca__n_components': 20} 0.7335958005249343\n",
      "\n",
      "Checking KNN\n",
      "train : 0.7230971128608924\n",
      "test : 0.7308868501529052\n",
      "{'model__n_neighbors': 40} 0.7139107611548556\n",
      "\n",
      "Checking Voting\n",
      "train : 0.7454068241469817\n",
      "test : 0.7217125382262997\n",
      "\n",
      "Checking Interactions\n",
      "train : 0.7965879265091863\n",
      "test : 0.7308868501529052\n"
     ]
    }
   ],
   "source": [
    "X = get_all_dummies(dogs_intact_unnamed)\n",
    "y = dogs_intact_unnamed.OutcomeType\n",
    "\n",
    "X_train, X_test,y_train,y_test = train_test_split(X,y,train_size=0.7,random_state=3475)\n",
    "print(X_train.shape)\n",
    "classifiers = Check_All(X_train, X_test,y_train,y_test)"
   ]
  },
  {
   "cell_type": "markdown",
   "metadata": {},
   "source": [
    "### dogs_neutered_named"
   ]
  },
  {
   "cell_type": "code",
   "execution_count": 32,
   "metadata": {},
   "outputs": [
    {
     "name": "stdout",
     "output_type": "stream",
     "text": [
      "(7704, 381)\n",
      "\n",
      "Checking DecisionTreeClassifier\n",
      "class_weight= balanced\n",
      "train : 0.4732606438213915\n",
      "test : 0.43337371290127197\n",
      "{'max_depth': 9, 'min_samples_leaf': 5} 0.4523624091381101\n",
      "class_weight= None\n",
      "train : 0.5433541017653167\n",
      "test : 0.5336159903089037\n",
      "{'max_depth': 1, 'min_samples_leaf': 1} 0.5433541017653167\n",
      "\n",
      "Checking RandomForest\n",
      "train : 0.5376427829698858\n",
      "test : 0.5405814657783161\n",
      "{'max_depth': 6, 'min_samples_leaf': 2} 0.5301142263759087\n",
      "\n",
      "Checking LogisticRegression\n",
      "Using 381 features\n",
      "train : 0.5552959501557633\n",
      "test : 0.5411871592973955\n",
      "{'C': 0.5} 0.5454309449636553\n",
      "Using 92 features\n",
      "train : 0.547767393561786\n",
      "test : 0.5357359176256814\n",
      "{'C': 50} 0.5429646936656283\n",
      "Using 4 features\n",
      "train : 0.5404984423676013\n",
      "test : 0.5327074500302846\n",
      "{'C': 0.1} 0.5404984423676013\n",
      "Using 4 features\n",
      "train : 0.5404984423676013\n",
      "test : 0.5327074500302846\n",
      "{'C': 0.1} 0.5404984423676013\n",
      "\n",
      "Checking LogisiticRegression with PCA\n",
      "train : 0.5425752855659398\n",
      "test : 0.5427013930950939\n",
      "{'model__C': 100, 'pca__n_components': 5} 0.5460799584631361\n"
     ]
    }
   ],
   "source": [
    "X = get_all_dummies(dogs_neutered_named)\n",
    "y = dogs_neutered_named.OutcomeType\n",
    "\n",
    "X_train, X_test,y_train,y_test = train_test_split(X,y,train_size=0.7,random_state=3475)\n",
    "print(X_train.shape)\n",
    "\n",
    "#knn,vc,inter takes too long to grid search on this data set due to its size\n",
    "dtc = Check_Dtc(X_train, X_test,y_train,y_test)\n",
    "rf,importances = Check_RandomForest(X_train, X_test,y_train,y_test)\n",
    "lr = Check_LogisticRegression(X_train, X_test,y_train,y_test,importances)\n",
    "lr_pca = Check_LogisiticRegressionPCA(X_train, X_test,y_train,y_test)\n",
    "#knn =  Pipeline([('scaler',StandardScaler()),('model',neighbors.KNeighborsClassifier(n_neighbors=30))])\n",
    "#estimators = [('knn',knn),('rf',rf),('lr',lr)]\n",
    "#vc = Check_Voting(X_train, X_test,y_train,y_test,estimators)\n",
    "#inter = Check_Interactions(X_train, X_test,y_train,y_test)"
   ]
  },
  {
   "cell_type": "markdown",
   "metadata": {},
   "source": [
    "### dogs_neutered_unnamed"
   ]
  },
  {
   "cell_type": "code",
   "execution_count": 33,
   "metadata": {},
   "outputs": [
    {
     "name": "stdout",
     "output_type": "stream",
     "text": [
      "(1061, 242)\n",
      "\n",
      "Checking DecisionTreeClassifier\n",
      "class_weight= balanced\n",
      "train : 0.6870876531573987\n",
      "test : 0.6857142857142857\n",
      "{'max_depth': 1, 'min_samples_leaf': 1} 0.6748350612629594\n",
      "class_weight= None\n",
      "train : 0.6946277097078228\n",
      "test : 0.6967032967032967\n",
      "{'max_depth': 2, 'min_samples_leaf': 1} 0.6936852026390198\n",
      "\n",
      "Checking RandomForest\n",
      "train : 0.6852026390197926\n",
      "test : 0.6791208791208792\n",
      "{'max_depth': 4, 'min_samples_leaf': 2} 0.6833176248821866\n",
      "\n",
      "Checking LogisticRegression\n",
      "Using 242 features\n",
      "train : 0.7530631479736098\n",
      "test : 0.7098901098901099\n",
      "{'C': 0.5} 0.702167766258247\n",
      "Using 42 features\n",
      "train : 0.7351555136663525\n",
      "test : 0.6857142857142857\n",
      "{'C': 10} 0.705937794533459\n",
      "Using 4 features\n",
      "train : 0.700282752120641\n",
      "test : 0.6989010989010989\n",
      "{'C': 0.5} 0.700282752120641\n",
      "Using 2 features\n",
      "train : 0.6852026390197926\n",
      "test : 0.6791208791208792\n",
      "{'C': 0.5} 0.6852026390197926\n",
      "\n",
      "Checking LogisiticRegression with PCA\n",
      "train : 0.7163053722902922\n",
      "test : 0.6967032967032967\n",
      "{'model__C': 0.1, 'pca__n_components': 50} 0.6974552309142319\n",
      "\n",
      "Checking KNN\n",
      "train : 0.7210179076343073\n",
      "test : 0.6747252747252748\n",
      "{'model__n_neighbors': 15} 0.6936852026390198\n",
      "\n",
      "Checking Voting\n",
      "train : 0.7134778510838832\n",
      "test : 0.7054945054945055\n",
      "\n",
      "Checking Interactions\n",
      "train : 0.7492931196983977\n",
      "test : 0.6747252747252748\n"
     ]
    }
   ],
   "source": [
    "X = get_all_dummies(dogs_neutered_unnamed)\n",
    "y = dogs_neutered_unnamed.OutcomeType\n",
    "\n",
    "X_train, X_test,y_train,y_test = train_test_split(X,y,train_size=0.7,random_state=3475)\n",
    "print(X_train.shape)\n",
    "classifiers = Check_All(X_train, X_test,y_train,y_test)"
   ]
  },
  {
   "cell_type": "markdown",
   "metadata": {},
   "source": [
    "### cats_intact_named"
   ]
  },
  {
   "cell_type": "code",
   "execution_count": 39,
   "metadata": {},
   "outputs": [
    {
     "name": "stdout",
     "output_type": "stream",
     "text": [
      "(758, 60)\n",
      "\n",
      "Checking DecisionTreeClassifier\n",
      "class_weight= balanced\n",
      "train : 0.525065963060686\n",
      "test : 0.37538461538461537\n",
      "{'max_depth': 9, 'min_samples_leaf': 1} 0.39841688654353563\n",
      "class_weight= None\n",
      "train : 0.6675461741424802\n",
      "test : 0.6676923076923077\n",
      "{'max_depth': 1, 'min_samples_leaf': 1} 0.6675461741424802\n",
      "\n",
      "Checking RandomForest\n",
      "train : 0.6675461741424802\n",
      "test : 0.6707692307692308\n",
      "{'max_depth': 5, 'min_samples_leaf': 2} 0.6701846965699209\n",
      "\n",
      "Checking LogisticRegression\n",
      "Using 60 features\n",
      "train : 0.6675461741424802\n",
      "test : 0.6676923076923077\n",
      "{'C': 0.1} 0.6662269129287599\n",
      "Using 32 features\n",
      "train : 0.6675461741424802\n",
      "test : 0.6676923076923077\n",
      "{'C': 0.1} 0.6662269129287599\n",
      "Using 4 features\n",
      "train : 0.6675461741424802\n",
      "test : 0.6676923076923077\n",
      "{'C': 0.1} 0.6675461741424802\n",
      "Using 2 features\n",
      "train : 0.6675461741424802\n",
      "test : 0.6676923076923077\n",
      "{'C': 0.1} 0.6675461741424802\n",
      "\n",
      "Checking LogisiticRegression with PCA\n",
      "train : 0.6675461741424802\n",
      "test : 0.6676923076923077\n",
      "{'model__C': 0.1, 'pca__n_components': 1} 0.6675461741424802\n",
      "\n",
      "Checking KNN\n",
      "train : 0.6701846965699209\n",
      "test : 0.676923076923077\n",
      "{'model__n_neighbors': 35} 0.6662269129287599\n",
      "\n",
      "Checking Voting\n",
      "train : 0.6675461741424802\n",
      "test : 0.6676923076923077\n",
      "\n",
      "Checking Interactions\n",
      "train : 0.6781002638522428\n",
      "test : 0.6615384615384615\n"
     ]
    }
   ],
   "source": [
    "X = get_all_dummies(cats_intact_named)\n",
    "y = cats_intact_named.OutcomeType\n",
    "\n",
    "X_train, X_test,y_train,y_test = train_test_split(X,y,train_size=0.7,random_state=3475)\n",
    "print(X_train.shape)\n",
    "classifiers = Check_All(X_train, X_test,y_train,y_test)"
   ]
  },
  {
   "cell_type": "markdown",
   "metadata": {},
   "source": [
    "### cats_intact_unnamed"
   ]
  },
  {
   "cell_type": "code",
   "execution_count": 40,
   "metadata": {},
   "outputs": [
    {
     "name": "stdout",
     "output_type": "stream",
     "text": [
      "(2062, 64)\n",
      "\n",
      "Checking DecisionTreeClassifier\n",
      "class_weight= balanced\n",
      "train : 0.5722599418040737\n",
      "test : 0.49095022624434387\n",
      "{'max_depth': 9, 'min_samples_leaf': 1} 0.5286129970902037\n",
      "class_weight= None\n",
      "train : 0.8608147429679922\n",
      "test : 0.8585972850678733\n",
      "{'max_depth': 1, 'min_samples_leaf': 1} 0.8608147429679922\n",
      "\n",
      "Checking RandomForest\n",
      "train : 0.8627546071774975\n",
      "test : 0.8653846153846154\n",
      "{'max_depth': 6, 'min_samples_leaf': 2} 0.8574199806013579\n",
      "\n",
      "Checking LogisticRegression\n",
      "Using 64 features\n",
      "train : 0.8622696411251213\n",
      "test : 0.8619909502262444\n",
      "{'C': 1} 0.8612997090203686\n",
      "Using 34 features\n",
      "train : 0.8608147429679922\n",
      "test : 0.8619909502262444\n",
      "{'C': 0.5} 0.8603297769156159\n",
      "Using 3 features\n",
      "train : 0.8593598448108632\n",
      "test : 0.8642533936651584\n",
      "{'C': 0.1} 0.8593598448108632\n",
      "Using 2 features\n",
      "train : 0.8593598448108632\n",
      "test : 0.8642533936651584\n",
      "{'C': 0.1} 0.8593598448108632\n",
      "\n",
      "Checking LogisiticRegression with PCA\n",
      "train : 0.8642095053346266\n",
      "test : 0.8574660633484162\n",
      "{'model__C': 0.1, 'pca__n_components': 50} 0.8598448108632396\n",
      "\n",
      "Checking KNN\n",
      "train : 0.8612997090203686\n",
      "test : 0.8597285067873304\n",
      "{'model__n_neighbors': 25} 0.8588748787584869\n",
      "\n",
      "Checking Voting\n",
      "train : 0.8617846750727449\n",
      "test : 0.8619909502262444\n",
      "\n",
      "Checking Interactions\n",
      "train : 0.8593598448108632\n",
      "test : 0.8563348416289592\n"
     ]
    }
   ],
   "source": [
    "X = get_all_dummies(cats_intact_unnamed)\n",
    "y = cats_intact_unnamed.OutcomeType\n",
    "\n",
    "X_train, X_test,y_train,y_test = train_test_split(X,y,train_size=0.7,random_state=3475)\n",
    "print(X_train.shape)\n",
    "classifiers = Check_All(X_train, X_test,y_train,y_test)"
   ]
  },
  {
   "cell_type": "markdown",
   "metadata": {},
   "source": [
    "### cats_spayed_named"
   ]
  },
  {
   "cell_type": "code",
   "execution_count": 41,
   "metadata": {},
   "outputs": [
    {
     "name": "stdout",
     "output_type": "stream",
     "text": [
      "(3504, 90)\n",
      "\n",
      "Checking DecisionTreeClassifier\n",
      "class_weight= balanced\n",
      "train : 0.6115867579908676\n",
      "test : 0.5199733688415447\n",
      "{'max_depth': 9, 'min_samples_leaf': 1} 0.5259703196347032\n",
      "class_weight= None\n",
      "train : 0.6783675799086758\n",
      "test : 0.6790945406125166\n",
      "{'max_depth': 1, 'min_samples_leaf': 1} 0.6783675799086758\n",
      "\n",
      "Checking RandomForest\n",
      "train : 0.6783675799086758\n",
      "test : 0.6784287616511319\n",
      "{'max_depth': 6, 'min_samples_leaf': 6} 0.680079908675799\n",
      "\n",
      "Checking LogisticRegression\n",
      "Using 90 features\n",
      "train : 0.6749429223744292\n",
      "test : 0.6764314247669774\n",
      "{'C': 0.1} 0.6740867579908676\n",
      "Using 36 features\n",
      "train : 0.675513698630137\n",
      "test : 0.6764314247669774\n",
      "{'C': 0.1} 0.6740867579908676\n",
      "Using 4 features\n",
      "train : 0.6786529680365296\n",
      "test : 0.6804260985352862\n",
      "{'C': 0.1} 0.6786529680365296\n",
      "Using 3 features\n",
      "train : 0.6789383561643836\n",
      "test : 0.6790945406125166\n",
      "{'C': 0.5} 0.6786529680365296\n",
      "\n",
      "Checking LogisiticRegression with PCA\n",
      "train : 0.6783675799086758\n",
      "test : 0.6790945406125166\n",
      "{'model__C': 0.1, 'pca__n_components': 1} 0.6783675799086758\n",
      "\n",
      "Checking KNN\n",
      "train : 0.6940639269406392\n",
      "test : 0.6744340878828229\n",
      "{'model__n_neighbors': 20} 0.6815068493150684\n",
      "\n",
      "Checking Voting\n",
      "train : 0.684931506849315\n",
      "test : 0.6804260985352862\n",
      "\n",
      "Checking Interactions\n",
      "train : 0.6806506849315068\n",
      "test : 0.6711051930758988\n"
     ]
    }
   ],
   "source": [
    "X = get_all_dummies(cats_spayed_named)\n",
    "y = cats_spayed_named.OutcomeType\n",
    "\n",
    "X_train, X_test,y_train,y_test = train_test_split(X,y,train_size=0.7,random_state=3475)\n",
    "print(X_train.shape)\n",
    "classifiers = Check_All(X_train, X_test,y_train,y_test)"
   ]
  },
  {
   "cell_type": "markdown",
   "metadata": {},
   "source": [
    "### cats_spayed_unnamed"
   ]
  },
  {
   "cell_type": "code",
   "execution_count": null,
   "metadata": {},
   "outputs": [],
   "source": [
    "X = get_all_dummies(cats_spayed_unnamed)\n",
    "y = cats_spayed_unnamed.OutcomeType\n",
    "\n",
    "X_train, X_test,y_train,y_test = train_test_split(X,y,train_size=0.7,random_state=3475)\n",
    "print(X_train.shape)\n",
    "classifiers = Check_All(X_train, X_test,y_train,y_test)\n",
    "#best is DTC"
   ]
  },
  {
   "cell_type": "markdown",
   "metadata": {},
   "source": [
    "# Summary\n",
    "The best models seem to be LogisticRegression and RandomForest with some small exceptions.\n",
    "Using class_weights on the DTC didn't help and neither did PCA analysis\n",
    "Voting and interaction for the most part didn't help and in order to keep the model simple we will not use these.\n",
    "KNN did not significantly improve accuracy and in order to reduce memory overhead we will not use this either.\n"
   ]
  },
  {
   "cell_type": "markdown",
   "metadata": {},
   "source": [
    "# Test Data"
   ]
  },
  {
   "cell_type": "code",
   "execution_count": 121,
   "metadata": {},
   "outputs": [],
   "source": [
    "file = 'test.csv'\n",
    "\n",
    "data = ScrapeData(file)\n",
    "\n",
    "test_dogs_intact_named= data[(data.AnimalType == 'Dog') & (data.Intact == 'Intact') & (data.HasName==True)]\n",
    "test_dogs_intact_unnamed= data[(data.AnimalType == 'Dog') & (data.Intact == 'Intact') & (data.HasName==False)]\n",
    "test_dogs_neutered_named= data[(data.AnimalType == 'Dog') & (data.Intact == 'Neutered') & (data.HasName==True)]\n",
    "test_dogs_neutered_unnamed= data[(data.AnimalType == 'Dog') & (data.Intact == 'Neutered') & (data.HasName==False)]\n",
    "\n",
    "test_cats_intact_named= data[(data.AnimalType == 'Cat') & (data.Intact == 'Intact') & (data.HasName==True)]\n",
    "test_cats_intact_unnamed= data[(data.AnimalType == 'Cat') & (data.Intact == 'Intact') & (data.HasName==False)]\n",
    "test_cats_spayed_named= data[(data.AnimalType == 'Cat') & (data.Intact == 'Neutered') & (data.HasName==True)]\n",
    "test_cats_spayed_unnamed= data[(data.AnimalType == 'Cat') & (data.Intact == 'Neutered') & (data.HasName==False)]\n",
    "\n",
    "test_unknown = data[(data.Intact == 'Unknown')]\n",
    "\n"
   ]
  },
  {
   "cell_type": "code",
   "execution_count": 119,
   "metadata": {},
   "outputs": [],
   "source": [
    "def Get_Mutual_Columns(X_train,X_test):\n",
    "    train_col = set(X_train.columns)\n",
    "    test_col = set(X_test.columns)\n",
    "    #print('Test missing columns = ',train_col-test_col)\n",
    "    #print('Test extra columns = ',test_col-train_col)\n",
    "    mutual_col = train_col & test_col\n",
    "    return (X_train[list(mutual_col)], X_test[list(mutual_col)])\n",
    "\n",
    "def predict(train,test,model):\n",
    "    X_train = get_all_dummies(train)\n",
    "    y = train.OutcomeType\n",
    "    X_test = get_all_dummies(test)\n",
    "    X_train, X_test = Get_Mutual_Columns(X_train,X_test)\n",
    "\n",
    "    model.fit(X_train,y)\n",
    "    return pd.Series(model.predict(X_test), index=test.ID)\n",
    "    #return pd.Series(model.predict(X_test))"
   ]
  },
  {
   "cell_type": "code",
   "execution_count": 122,
   "metadata": {},
   "outputs": [],
   "source": [
    "X_train = pd.get_dummies(unknown[['Age', 'AnimalType','HasName']],columns=['AnimalType','HasName'])\n",
    "X_test = pd.get_dummies(test_unknown[['Age', 'AnimalType','HasName']],columns=['AnimalType','HasName'])\n",
    "y=unknown.OutcomeType\n",
    "lr = LogisticRegression(C=0.1)\n",
    "lr.fit(X_train,y)\n",
    "unknown_pred = pd.Series(lr.predict(X_test), index=test_unknown.ID)\n",
    "#unknown_pred = pd.Series(lr.predict(X_test))\n",
    "dogs_intact_named_pred = predict(dogs_intact_named,test_dogs_intact_named,LogisticRegression(C=0.5))\n",
    "dogs_intact_unnamed_pred = predict(dogs_intact_unnamed,test_dogs_intact_unnamed,DecisionTreeClassifier(max_depth=4, min_samples_leaf=7))\n",
    "dogs_neutered_named_pred = predict(dogs_neutered_named,test_dogs_neutered_named,LogisticRegression(C=0.5))\n",
    "dogs_neutered_unnamed_pred = predict(dogs_neutered_unnamed,test_dogs_neutered_unnamed,LogisticRegression(C=0.5))\n",
    "cats_intact_named_pred = predict(cats_intact_named,test_cats_intact_named,LogisticRegression(C=0.1))\n",
    "cats_intact_unnamed_pred = predict(cats_intact_unnamed,test_cats_intact_unnamed,LogisticRegression(C=1))\n",
    "cats_spayed_named_pred = predict(cats_spayed_named,test_cats_spayed_named,LogisticRegression(C=0.1))\n",
    "cats_spayed_unnamed_pred = predict(cats_spayed_unnamed,test_cats_spayed_unnamed,LogisticRegression(C=0.1))\n",
    "all_pred =  unknown_pred\n",
    "all_pred= all_pred.append(dogs_intact_named_pred,verify_integrity=True)\n",
    "all_pred= all_pred.append(dogs_intact_unnamed_pred,verify_integrity=True)\n",
    "all_pred= all_pred.append(dogs_neutered_named_pred,verify_integrity=True)\n",
    "all_pred= all_pred.append(dogs_neutered_unnamed_pred,verify_integrity=True)\n",
    "all_pred= all_pred.append(cats_intact_named_pred,verify_integrity=True)\n",
    "all_pred= all_pred.append(cats_intact_unnamed_pred,verify_integrity=True)\n",
    "all_pred= all_pred.append(cats_spayed_named_pred,verify_integrity=True)\n",
    "all_pred= all_pred.append(cats_spayed_unnamed_pred,verify_integrity=True) "
   ]
  },
  {
   "cell_type": "markdown",
   "metadata": {},
   "source": [
    "### Submission"
   ]
  },
  {
   "cell_type": "code",
   "execution_count": 129,
   "metadata": {},
   "outputs": [
    {
     "name": "stdout",
     "output_type": "stream",
     "text": [
      "(11450,) (11456, 8)\n",
      "(11456,) (11456, 8)\n"
     ]
    }
   ],
   "source": [
    "print(all_pred.shape, pd.read_csv('test.csv').shape)\n",
    "missing_rows = set(range(1,11457)) - set(all_pred.index)\n",
    "for missing_row in missing_rows:\n",
    "    all_pred[missing_row] = 'Transfer'\n",
    "#all_pred = all_pred.sort_index()\n",
    "print(all_pred.shape, pd.read_csv('test.csv').shape)"
   ]
  },
  {
   "cell_type": "code",
   "execution_count": 130,
   "metadata": {},
   "outputs": [
    {
     "name": "stdout",
     "output_type": "stream",
     "text": [
      "{11456, 2498, 10754, 7626, 6347, 6323, 763}\n",
      "{0}\n"
     ]
    }
   ],
   "source": [
    "print(set(all_pred.index)-set(data.index))\n",
    "print(set(data.index)-set(all_pred.index))"
   ]
  },
  {
   "cell_type": "code",
   "execution_count": 131,
   "metadata": {},
   "outputs": [],
   "source": [
    "pred_df = pd.DataFrame()\n",
    "pred_df['pred'] = all_pred\n",
    "pred_df.index = all_pred.index"
   ]
  },
  {
   "cell_type": "code",
   "execution_count": 132,
   "metadata": {},
   "outputs": [],
   "source": [
    "with open('submission.csv','w+') as sub:\n",
    "    sub.write('ID,Adoption,Died,Euthanasia,Return_to_owner,Transfer\\n')\n",
    "    for row_id,values in pred_df.iterrows() :\n",
    "        pred = values['pred']\n",
    "        adoption = '0'\n",
    "        if(pred=='Adoption'): adoption = '1'\n",
    "        died = '0'\n",
    "        if(pred=='Died'): died = '1'\n",
    "        euthanasia = '0'\n",
    "        if(pred=='Euthanasia'): euthanasia = '1'\n",
    "        return_to_owner= '0'\n",
    "        if(pred=='Return_to_owner'): return_to_owner = '1'\n",
    "        transfer = '0'\n",
    "        if(pred=='Transfer'): transfer = '1'\n",
    "        sub_str = ','.join([str(row_id),adoption,died,euthanasia,return_to_owner,transfer])\n",
    "        sub.write(sub_str)\n",
    "        sub.write('\\n')\n",
    "        "
   ]
  },
  {
   "cell_type": "code",
   "execution_count": 133,
   "metadata": {},
   "outputs": [],
   "source": [
    "#submission by percentages\n",
    "with open('submission2.csv','w+') as sub:\n",
    "    sub.write('ID,Adoption,Died,Euthanasia,Return_to_owner,Transfer\\n')\n",
    "    lines = [f'{row_id},10769,197,1555,4786,9422\\n' for row_id in range(1,11457)]\n",
    "    sub.writelines(lines)"
   ]
  },
  {
   "cell_type": "code",
   "execution_count": null,
   "metadata": {},
   "outputs": [],
   "source": []
  }
 ],
 "metadata": {
  "kernelspec": {
   "display_name": "Python 3",
   "language": "python",
   "name": "python3"
  },
  "language_info": {
   "codemirror_mode": {
    "name": "ipython",
    "version": 3
   },
   "file_extension": ".py",
   "mimetype": "text/x-python",
   "name": "python",
   "nbconvert_exporter": "python",
   "pygments_lexer": "ipython3",
   "version": "3.6.5"
  }
 },
 "nbformat": 4,
 "nbformat_minor": 2
}
